{
  "nbformat": 4,
  "nbformat_minor": 0,
  "metadata": {
    "colab": {
      "provenance": [],
      "collapsed_sections": [],
      "include_colab_link": true
    },
    "kernelspec": {
      "name": "python3",
      "display_name": "Python 3"
    },
    "language_info": {
      "name": "python"
    },
    "accelerator": "GPU",
    "gpuClass": "standard"
  },
  "cells": [
    {
      "cell_type": "markdown",
      "metadata": {
        "id": "view-in-github",
        "colab_type": "text"
      },
      "source": [
        "<a href=\"https://colab.research.google.com/github/Ms-Ainebyona/Chest-Opacity-project/blob/colab-main/CUSTOM_SEQUENTIAL_MODEL_.ipynb\" target=\"_parent\"><img src=\"https://colab.research.google.com/assets/colab-badge.svg\" alt=\"Open In Colab\"/></a>"
      ]
    },
    {
      "cell_type": "markdown",
      "source": [
        "Mounting drive"
      ],
      "metadata": {
        "id": "GDC5fJJ6co1s"
      }
    },
    {
      "cell_type": "code",
      "execution_count": 781,
      "metadata": {
        "colab": {
          "base_uri": "https://localhost:8080/"
        },
        "id": "ua-WsGFyEPjg",
        "outputId": "81d63bbd-78b9-4e0a-9031-dd43ad267ec4"
      },
      "outputs": [
        {
          "output_type": "stream",
          "name": "stdout",
          "text": [
            "Drive already mounted at /content/drive; to attempt to forcibly remount, call drive.mount(\"/content/drive\", force_remount=True).\n"
          ]
        }
      ],
      "source": [
        "from google.colab import drive\n",
        "drive.mount('/content/drive')"
      ]
    },
    {
      "cell_type": "markdown",
      "source": [
        "Importing necessary libraries"
      ],
      "metadata": {
        "id": "50edITZFcsVR"
      }
    },
    {
      "cell_type": "code",
      "source": [
        "import tensorflow as tf\n",
        "import numpy as np\n",
        "import matplotlib.pyplot as plt\n",
        "import keras.utils\n",
        "from tensorflow import keras\n",
        "from tensorflow.keras import layers, optimizers\n",
        "from tensorflow.keras.models import Sequential\n",
        "import os\n",
        "import cv2\n",
        "from tensorflow.keras.preprocessing.image import ImageDataGenerator\n",
        "import os\n",
        "import PIL\n",
        "import PIL.Image\n",
        "import pathlib\n",
        "import glob\n",
        "from tensorflow.keras.preprocessing import image\n",
        "import pandas as pd\n"
      ],
      "metadata": {
        "id": "yudKx29rEyaM"
      },
      "execution_count": 782,
      "outputs": []
    },
    {
      "cell_type": "markdown",
      "source": [
        "Data loading"
      ],
      "metadata": {
        "id": "TJpNLdiwch67"
      }
    },
    {
      "cell_type": "code",
      "source": [
        "train_dir=\"/content/drive/MyDrive/Train-data \"\n",
        "predict_dir=\"/content/drive/MyDrive/new\"\n",
        "test_dir=\"/content/drive/MyDrive/Test data\""
      ],
      "metadata": {
        "id": "-JitZ71KE6-_"
      },
      "execution_count": 783,
      "outputs": []
    },
    {
      "cell_type": "markdown",
      "source": [
        "Model parameters"
      ],
      "metadata": {
        "id": "O9dK0659cfAS"
      }
    },
    {
      "cell_type": "code",
      "source": [
        "import keras\n",
        "from tensorflow.keras import layers\n",
        "img_height=200\n",
        "img_width=200\n",
        "batch_size=29\n"
      ],
      "metadata": {
        "id": "TXHx8hkHE-Ie"
      },
      "execution_count": 1112,
      "outputs": []
    },
    {
      "cell_type": "code",
      "source": [
        "\n",
        "ds_test=tf.keras.preprocessing.image_dataset_from_directory(test_dir,\n",
        "labels='inferred', \n",
        "label_mode=\"int\", \n",
        "color_mode='grayscale',\n",
        "batch_size=batch_size,\n",
        " image_size = (img_height,img_width),\n",
        " crop_to_aspect_ratio=True,\n",
        "  #interpolation=\"mitchellcubic\" ,\n",
        "  seed=123,\n",
        "                                                           \n",
        ")"
      ],
      "metadata": {
        "colab": {
          "base_uri": "https://localhost:8080/"
        },
        "id": "YA0_AB5qFAv9",
        "outputId": "fe38da7d-ec64-415a-f29a-5fe9cfa5e86e"
      },
      "execution_count": 1113,
      "outputs": [
        {
          "output_type": "stream",
          "name": "stdout",
          "text": [
            "Found 100 files belonging to 2 classes.\n"
          ]
        }
      ]
    },
    {
      "cell_type": "code",
      "source": [
        "ds_train=tf.keras.preprocessing.image_dataset_from_directory(train_dir,\n",
        "labels='inferred', \n",
        "label_mode=\"int\", \n",
        "color_mode='grayscale',\n",
        "batch_size=batch_size,\n",
        " image_size = (img_height,img_width),\n",
        " shuffle=True,\n",
        " seed=123, \n",
        " validation_split=0.15,\n",
        " subset=\"training\", \n",
        "  crop_to_aspect_ratio=True,\n",
        " # interpolation=\"mitchellcubic\",                                                             \n",
        ")\n",
        "ds_validation=tf.keras.preprocessing.image_dataset_from_directory(train_dir, \n",
        "labels='inferred', \n",
        "label_mode=\"int\", \n",
        "color_mode='grayscale',\n",
        "batch_size=batch_size,\n",
        " image_size = (img_height,img_width),\n",
        " #shuffle=True,\n",
        " seed=123,\n",
        " validation_split=0.15,\n",
        " subset=\"validation\",\n",
        "  crop_to_aspect_ratio=True,\n",
        "  #interpolation=\"mitchellcubic\", \n",
        " )\n",
        "\n",
        "ds_predict=tf.keras.preprocessing.image_dataset_from_directory(predict_dir, \n",
        "labels='inferred', \n",
        "label_mode=\"int\", \n",
        "color_mode='grayscale',\n",
        "batch_size=batch_size,\n",
        " image_size = (img_height,img_width),\n",
        " #shuffle=True,\n",
        " #seed=123,\n",
        "#crop_to_aspect_ratio=True,\n",
        "  interpolation=\"mitchellcubic\" \n",
        ")\n",
        "\n",
        "def augment(X,Y):\n",
        "  image=tf.image.random_brightness(X,max_delta=0.05)  \n",
        "  ds_train=ds_train.map(augment) \n",
        "  for epoch in range(100):\n",
        "   for X,Y in ds_train:\n",
        "     pass"
      ],
      "metadata": {
        "colab": {
          "base_uri": "https://localhost:8080/"
        },
        "id": "Ow6xbOAWFG5w",
        "outputId": "91343b17-660c-4c0e-ab76-94fc5fb5c413"
      },
      "execution_count": 1114,
      "outputs": [
        {
          "output_type": "stream",
          "name": "stdout",
          "text": [
            "Found 615 files belonging to 2 classes.\n",
            "Using 523 files for training.\n",
            "Found 615 files belonging to 2 classes.\n",
            "Using 92 files for validation.\n",
            "Found 50 files belonging to 1 classes.\n"
          ]
        }
      ]
    },
    {
      "cell_type": "markdown",
      "source": [
        "Standardizing the data to be in the 0 to 1 range.\n",
        "#Rescaling"
      ],
      "metadata": {
        "id": "TtbfXkp_mzme"
      }
    },
    {
      "cell_type": "code",
      "source": [
        "normalization_layer = tf.keras.layers.Rescaling(1./255)\n",
        "\n",
        "normalized_ds = ds_train.map(lambda x, y: (normalization_layer(x), y))"
      ],
      "metadata": {
        "id": "eYf9TGxXFKLL"
      },
      "execution_count": 1115,
      "outputs": []
    },
    {
      "cell_type": "code",
      "source": [
        "AUTOTUNE = tf.data.AUTOTUNE\n",
        "\n",
        "ds_train = ds_train.cache().prefetch(buffer_size=AUTOTUNE)\n",
        "ds_validation = ds_validation.cache().prefetch(buffer_size=AUTOTUNE)"
      ],
      "metadata": {
        "id": "ncnvteflFNvD"
      },
      "execution_count": 1116,
      "outputs": []
    },
    {
      "cell_type": "markdown",
      "source": [
        "Data Augmentation"
      ],
      "metadata": {
        "id": "ucuQG2ptcEET"
      }
    },
    {
      "cell_type": "code",
      "source": [
        "data_augmentation = keras.Sequential(\n",
        "  [\n",
        "    layers.RandomFlip(\"horizontal\",\n",
        "                      input_shape=(img_height,\n",
        "                                  img_width,\n",
        "                                  1)),\n",
        "    layers.RandomRotation(0.7),\n",
        "    layers.RandomZoom(0.4),\n",
        "  ]\n",
        ")"
      ],
      "metadata": {
        "id": "s8yxTO7iFQ-S"
      },
      "execution_count": 1176,
      "outputs": []
    },
    {
      "cell_type": "markdown",
      "source": [
        "Model definition"
      ],
      "metadata": {
        "id": "T2tN8GCZcAn8"
      }
    },
    {
      "cell_type": "code",
      "source": [
        "model=keras.Sequential([\n",
        "    data_augmentation,\n",
        "    layers.Input((200,200,1)),\n",
        "    layers.Conv2D(16,3, padding='same', activation='relu'),\n",
        "    layers.MaxPooling2D(),\n",
        "    layers.Conv2D(32,3, padding='same',activation='relu'),\n",
        "    layers.MaxPooling2D(),\n",
        "    layers.Conv2D(64,3, padding='same',activation='relu'),\n",
        "    layers.MaxPooling2D(),\n",
        "    layers.Conv2D(128,3, padding='same',activation='relu'),\n",
        "    layers.MaxPooling2D(),\n",
        "    layers.Conv2D(256,3, padding='same',activation='relu'),\n",
        "    layers.MaxPooling2D(),\n",
        "    layers.Conv2D(512,3, padding='same',activation='relu'),\n",
        "    layers.MaxPooling2D(),\n",
        "    layers.Conv2D(512,3, padding='same',activation='relu'),\n",
        "    layers.MaxPooling2D(),\n",
        "    layers.Dropout(0.4),\n",
        "    layers.Flatten(),\n",
        "    layers.Dense(2),\n",
        "    layers.Dense(512, activation='sigmoid'),\n",
        "  \n",
        "\n",
        "])"
      ],
      "metadata": {
        "id": "MrueCysAFUFz"
      },
      "execution_count": 1233,
      "outputs": []
    },
    {
      "cell_type": "markdown",
      "source": [
        "Model compilation"
      ],
      "metadata": {
        "id": "ysrqqRoBb7oT"
      }
    },
    {
      "cell_type": "code",
      "source": [
        "model.compile(\n",
        "    optimizer='RMSProp',\n",
        "    loss=[\n",
        "        keras.losses.SparseCategoricalCrossentropy(from_logits=True),\n",
        "    ],\n",
        "    metrics=[\"accuracy\"],\n",
        ")  \n",
        "history= model.fit(ds_train,epochs=30,batch_size=29,validation_data=ds_validation,verbose=2)   "
      ],
      "metadata": {
        "colab": {
          "base_uri": "https://localhost:8080/"
        },
        "id": "H8xvS1PhFXGv",
        "outputId": "24579a1f-fe9e-4775-a5e8-0b800ea0c24c"
      },
      "execution_count": 1234,
      "outputs": [
        {
          "output_type": "stream",
          "name": "stdout",
          "text": [
            "Epoch 1/30\n"
          ]
        },
        {
          "output_type": "stream",
          "name": "stderr",
          "text": [
            "/usr/local/lib/python3.7/dist-packages/tensorflow/python/util/dispatch.py:1082: UserWarning: \"`sparse_categorical_crossentropy` received `from_logits=True`, but the `output` argument was produced by a sigmoid or softmax activation and thus does not represent logits. Was this intended?\"\n",
            "  return dispatch_target(*args, **kwargs)\n"
          ]
        },
        {
          "output_type": "stream",
          "name": "stdout",
          "text": [
            "19/19 - 2s - loss: 26.0595 - accuracy: 0.0019 - val_loss: 3.7084 - val_accuracy: 0.0000e+00 - 2s/epoch - 112ms/step\n",
            "Epoch 2/30\n",
            "19/19 - 1s - loss: 2.9805 - accuracy: 0.1281 - val_loss: 2.2194 - val_accuracy: 0.0000e+00 - 624ms/epoch - 33ms/step\n",
            "Epoch 3/30\n",
            "19/19 - 1s - loss: 1.4691 - accuracy: 0.3748 - val_loss: 0.7685 - val_accuracy: 0.5870 - 632ms/epoch - 33ms/step\n",
            "Epoch 4/30\n",
            "19/19 - 1s - loss: 0.9618 - accuracy: 0.5411 - val_loss: 0.7981 - val_accuracy: 0.5326 - 625ms/epoch - 33ms/step\n",
            "Epoch 5/30\n",
            "19/19 - 1s - loss: 0.8437 - accuracy: 0.5870 - val_loss: 0.9270 - val_accuracy: 0.5217 - 638ms/epoch - 34ms/step\n",
            "Epoch 6/30\n",
            "19/19 - 1s - loss: 1.0538 - accuracy: 0.5736 - val_loss: 0.8706 - val_accuracy: 0.5109 - 626ms/epoch - 33ms/step\n",
            "Epoch 7/30\n",
            "19/19 - 1s - loss: 0.7316 - accuracy: 0.5966 - val_loss: 0.7802 - val_accuracy: 0.5109 - 630ms/epoch - 33ms/step\n",
            "Epoch 8/30\n",
            "19/19 - 1s - loss: 0.8033 - accuracy: 0.6080 - val_loss: 1.0030 - val_accuracy: 0.5000 - 624ms/epoch - 33ms/step\n",
            "Epoch 9/30\n",
            "19/19 - 1s - loss: 0.7589 - accuracy: 0.6061 - val_loss: 0.7326 - val_accuracy: 0.5109 - 627ms/epoch - 33ms/step\n",
            "Epoch 10/30\n",
            "19/19 - 1s - loss: 0.7823 - accuracy: 0.6080 - val_loss: 0.9162 - val_accuracy: 0.5000 - 617ms/epoch - 32ms/step\n",
            "Epoch 11/30\n",
            "19/19 - 1s - loss: 0.6153 - accuracy: 0.6654 - val_loss: 0.8680 - val_accuracy: 0.5543 - 620ms/epoch - 33ms/step\n",
            "Epoch 12/30\n",
            "19/19 - 1s - loss: 0.6687 - accuracy: 0.6577 - val_loss: 1.3531 - val_accuracy: 0.5217 - 623ms/epoch - 33ms/step\n",
            "Epoch 13/30\n",
            "19/19 - 1s - loss: 0.7420 - accuracy: 0.6654 - val_loss: 0.6413 - val_accuracy: 0.5870 - 622ms/epoch - 33ms/step\n",
            "Epoch 14/30\n",
            "19/19 - 1s - loss: 0.7337 - accuracy: 0.6941 - val_loss: 1.0031 - val_accuracy: 0.5326 - 620ms/epoch - 33ms/step\n",
            "Epoch 15/30\n",
            "19/19 - 1s - loss: 0.5336 - accuracy: 0.7495 - val_loss: 0.7735 - val_accuracy: 0.6522 - 624ms/epoch - 33ms/step\n",
            "Epoch 16/30\n",
            "19/19 - 1s - loss: 0.7194 - accuracy: 0.7457 - val_loss: 0.8308 - val_accuracy: 0.5978 - 622ms/epoch - 33ms/step\n",
            "Epoch 17/30\n",
            "19/19 - 1s - loss: 0.5374 - accuracy: 0.7629 - val_loss: 0.7473 - val_accuracy: 0.6196 - 623ms/epoch - 33ms/step\n",
            "Epoch 18/30\n",
            "19/19 - 1s - loss: 0.5470 - accuracy: 0.7380 - val_loss: 0.7481 - val_accuracy: 0.6957 - 632ms/epoch - 33ms/step\n",
            "Epoch 19/30\n",
            "19/19 - 1s - loss: 0.5222 - accuracy: 0.7629 - val_loss: 1.2986 - val_accuracy: 0.5870 - 623ms/epoch - 33ms/step\n",
            "Epoch 20/30\n",
            "19/19 - 1s - loss: 0.5316 - accuracy: 0.7706 - val_loss: 0.7638 - val_accuracy: 0.6957 - 620ms/epoch - 33ms/step\n",
            "Epoch 21/30\n",
            "19/19 - 1s - loss: 0.4934 - accuracy: 0.7878 - val_loss: 0.6179 - val_accuracy: 0.7500 - 622ms/epoch - 33ms/step\n",
            "Epoch 22/30\n",
            "19/19 - 1s - loss: 0.4790 - accuracy: 0.7648 - val_loss: 0.6191 - val_accuracy: 0.7609 - 628ms/epoch - 33ms/step\n",
            "Epoch 23/30\n",
            "19/19 - 1s - loss: 0.4934 - accuracy: 0.7801 - val_loss: 0.6097 - val_accuracy: 0.7065 - 622ms/epoch - 33ms/step\n",
            "Epoch 24/30\n",
            "19/19 - 1s - loss: 0.4751 - accuracy: 0.7725 - val_loss: 0.4538 - val_accuracy: 0.8478 - 625ms/epoch - 33ms/step\n",
            "Epoch 25/30\n",
            "19/19 - 1s - loss: 0.4715 - accuracy: 0.7897 - val_loss: 2.0738 - val_accuracy: 0.5543 - 620ms/epoch - 33ms/step\n",
            "Epoch 26/30\n",
            "19/19 - 1s - loss: 0.4273 - accuracy: 0.8145 - val_loss: 1.3285 - val_accuracy: 0.5761 - 624ms/epoch - 33ms/step\n",
            "Epoch 27/30\n",
            "19/19 - 1s - loss: 0.3923 - accuracy: 0.8184 - val_loss: 1.0408 - val_accuracy: 0.6413 - 631ms/epoch - 33ms/step\n",
            "Epoch 28/30\n",
            "19/19 - 1s - loss: 0.4869 - accuracy: 0.7706 - val_loss: 1.3290 - val_accuracy: 0.5543 - 622ms/epoch - 33ms/step\n",
            "Epoch 29/30\n",
            "19/19 - 1s - loss: 0.4290 - accuracy: 0.8050 - val_loss: 0.6840 - val_accuracy: 0.7609 - 620ms/epoch - 33ms/step\n",
            "Epoch 30/30\n",
            "19/19 - 1s - loss: 0.4121 - accuracy: 0.8069 - val_loss: 0.7377 - val_accuracy: 0.7500 - 625ms/epoch - 33ms/step\n"
          ]
        }
      ]
    },
    {
      "cell_type": "code",
      "source": [
        "model.evaluate(ds_validation, verbose=2)"
      ],
      "metadata": {
        "colab": {
          "base_uri": "https://localhost:8080/"
        },
        "id": "8h3p2XoMFb4Y",
        "outputId": "dcf9574d-3c8a-4a9f-e270-56828662a90b"
      },
      "execution_count": 1235,
      "outputs": [
        {
          "output_type": "stream",
          "name": "stdout",
          "text": [
            "4/4 - 0s - loss: 0.7377 - accuracy: 0.7500 - 61ms/epoch - 15ms/step\n"
          ]
        },
        {
          "output_type": "execute_result",
          "data": {
            "text/plain": [
              "[0.7377247214317322, 0.75]"
            ]
          },
          "metadata": {},
          "execution_count": 1235
        }
      ]
    },
    {
      "cell_type": "code",
      "source": [
        "# Visualization of training accuracy and loss curves\n",
        "plt.plot(history.history['accuracy'], label='accuracy')\n",
        "plt.plot(history.history['val_accuracy'], label = 'val_accuracy')\n",
        "plt.xlabel('Epoch')\n",
        "plt.ylabel('Accuracy')\n",
        "plt.legend(loc='lower right')"
      ],
      "metadata": {
        "colab": {
          "base_uri": "https://localhost:8080/",
          "height": 297
        },
        "id": "r8mIVdY_FfaI",
        "outputId": "56e3bf2e-63fb-4fb9-aba1-f3940b6af598"
      },
      "execution_count": 1236,
      "outputs": [
        {
          "output_type": "execute_result",
          "data": {
            "text/plain": [
              "<matplotlib.legend.Legend at 0x7f5fdf2ddcd0>"
            ]
          },
          "metadata": {},
          "execution_count": 1236
        },
        {
          "output_type": "display_data",
          "data": {
            "text/plain": [
              "<Figure size 432x288 with 1 Axes>"
            ],
            "image/png": "[encoded data removed]"
          },
          "metadata": {
            "needs_background": "light"
          }
        }
      ]
    },
    {
      "cell_type": "code",
      "source": [
        "# Visualization of the training accuracy and loss curves\n",
        "plt.plot(history.history['loss'], label='loss')\n",
        "plt.plot(history.history['val_loss'], label = 'val_loss')\n",
        "plt.xlabel('Epoch')\n",
        "plt.ylabel('Loss')\n",
        "plt.legend(loc='upper right')"
      ],
      "metadata": {
        "colab": {
          "base_uri": "https://localhost:8080/",
          "height": 297
        },
        "id": "oDBMjusAFizb",
        "outputId": "3a64b402-b650-4660-cf46-f6870014625a"
      },
      "execution_count": 1237,
      "outputs": [
        {
          "output_type": "execute_result",
          "data": {
            "text/plain": [
              "<matplotlib.legend.Legend at 0x7f5fdf15bf50>"
            ]
          },
          "metadata": {},
          "execution_count": 1237
        },
        {
          "output_type": "display_data",
          "data": {
            "text/plain": [
              "<Figure size 432x288 with 1 Axes>"
            ],
            "image/png": "[encoded data removed]"
          },
          "metadata": {
            "needs_background": "light"
          }
        }
      ]
    },
    {
      "cell_type": "code",
      "source": [
        "# Predictions\n",
        "preds = model.predict(ds_predict)"
      ],
      "metadata": {
        "id": "2NDpdVRsoH2v"
      },
      "execution_count": 1238,
      "outputs": []
    },
    {
      "cell_type": "code",
      "source": [
        "# Get classes\n",
        "pred_classes = (preds>=0.5).astype(int)"
      ],
      "metadata": {
        "id": "EgcvcNKnoaHC"
      },
      "execution_count": 1239,
      "outputs": []
    },
    {
      "cell_type": "code",
      "source": [
        "y_pred = []  # storing predicted labels\n",
        "y_true = []  # storing true labels"
      ],
      "metadata": {
        "id": "h6geYitboguK"
      },
      "execution_count": 1240,
      "outputs": []
    },
    {
      "cell_type": "code",
      "source": [
        "for image_batch, label_batch in ds_predict:\n",
        "   # append true labels\n",
        "   y_true.append(label_batch)\n",
        "   # compute predictions\n",
        "   preds = model.predict(image_batch)\n",
        "   # append predicted labels\n",
        "   y_pred.append(np.argmax(preds, axis = - 1))\n",
        "\n",
        "# convert the true and predicted labels into tensors\n",
        "correct_labels = tf.concat([item for item in y_true], axis = 0)\n",
        "predicted_labels = tf.concat([item for item in y_pred], axis = 0)"
      ],
      "metadata": {
        "id": "S8kE0ZWGokLg"
      },
      "execution_count": 1241,
      "outputs": []
    },
    {
      "cell_type": "code",
      "source": [
        "from sklearn.metrics._plot.confusion_matrix import confusion_matrix\n",
        "confusion_matrix(predicted_labels, correct_labels)"
      ],
      "metadata": {
        "colab": {
          "base_uri": "https://localhost:8080/"
        },
        "id": "nVmNZfpwouwt",
        "outputId": "39a19bc5-2303-4fc8-decd-09e859e2d1e5"
      },
      "execution_count": 1242,
      "outputs": [
        {
          "output_type": "execute_result",
          "data": {
            "text/plain": [
              "array([[44,  0],\n",
              "       [ 6,  0]])"
            ]
          },
          "metadata": {},
          "execution_count": 1242
        }
      ]
    },
    {
      "cell_type": "code",
      "source": [
        "from sklearn.metrics import classification_report\n",
        "print(classification_report(\n",
        "  correct_labels, \n",
        "  predicted_labels, \n",
        "  \n",
        "\n",
        "))"
      ],
      "metadata": {
        "colab": {
          "base_uri": "https://localhost:8080/"
        },
        "id": "punnJPOKoy_Q",
        "outputId": "49104a83-9d60-4e2b-b017-fa0c5c982804"
      },
      "execution_count": 1243,
      "outputs": [
        {
          "output_type": "stream",
          "name": "stdout",
          "text": [
            "              precision    recall  f1-score   support\n",
            "\n",
            "           0       1.00      0.88      0.94        50\n",
            "           1       0.00      0.00      0.00         0\n",
            "\n",
            "    accuracy                           0.88        50\n",
            "   macro avg       0.50      0.44      0.47        50\n",
            "weighted avg       1.00      0.88      0.94        50\n",
            "\n"
          ]
        },
        {
          "output_type": "stream",
          "name": "stderr",
          "text": [
            "/usr/local/lib/python3.7/dist-packages/sklearn/metrics/_classification.py:1318: UndefinedMetricWarning: Recall and F-score are ill-defined and being set to 0.0 in labels with no true samples. Use `zero_division` parameter to control this behavior.\n",
            "  _warn_prf(average, modifier, msg_start, len(result))\n",
            "/usr/local/lib/python3.7/dist-packages/sklearn/metrics/_classification.py:1318: UndefinedMetricWarning: Recall and F-score are ill-defined and being set to 0.0 in labels with no true samples. Use `zero_division` parameter to control this behavior.\n",
            "  _warn_prf(average, modifier, msg_start, len(result))\n",
            "/usr/local/lib/python3.7/dist-packages/sklearn/metrics/_classification.py:1318: UndefinedMetricWarning: Recall and F-score are ill-defined and being set to 0.0 in labels with no true samples. Use `zero_division` parameter to control this behavior.\n",
            "  _warn_prf(average, modifier, msg_start, len(result))\n"
          ]
        }
      ]
    },
    {
      "cell_type": "markdown",
      "source": [
        "Predictions"
      ],
      "metadata": {
        "id": "G6uB9Csxb3Fj"
      }
    },
    {
      "cell_type": "code",
      "source": [
        "# Predictions\n",
        "preds1 = model.predict(ds_test)"
      ],
      "metadata": {
        "id": "lg6hIAUBGsbr"
      },
      "execution_count": 1244,
      "outputs": []
    },
    {
      "cell_type": "code",
      "source": [
        "# Get classes\n",
        "pred_classes = (preds1>=0.5).astype(int)"
      ],
      "metadata": {
        "id": "q9RqQi1PGvDT"
      },
      "execution_count": 1245,
      "outputs": []
    },
    {
      "cell_type": "code",
      "source": [
        "\n",
        "y_pred1 = []  # storing predicted labels\n",
        "y_true1 = []  # storing true labels\n",
        "\n",
        "for image_batch, label_batch in ds_test:\n",
        "   # append true labels\n",
        "   y_true1.append(label_batch)\n",
        "   # compute predictions\n",
        "   preds1 = model.predict(image_batch)\n",
        "   # append predicted labels\n",
        "   y_pred1.append(np.argmax(preds1, axis = - 1))\n",
        "\n",
        "# convert the true and predicted labels into tensors\n",
        "correct_labels = tf.concat([item for item in y_true1], axis = 0)\n",
        "predicted_labels = tf.concat([item for item in y_pred1], axis = 0)"
      ],
      "metadata": {
        "id": "4MG4FlrGGyhC"
      },
      "execution_count": 1246,
      "outputs": []
    },
    {
      "cell_type": "markdown",
      "source": [
        "Confusion matrix for the test set of dataset 1(known images)"
      ],
      "metadata": {
        "id": "3ps7ft26btgg"
      }
    },
    {
      "cell_type": "code",
      "source": [
        "from sklearn.metrics._plot.confusion_matrix import confusion_matrix\n",
        "confusion_matrix(predicted_labels, correct_labels)"
      ],
      "metadata": {
        "colab": {
          "base_uri": "https://localhost:8080/"
        },
        "id": "MtoxTp8HG2RS",
        "outputId": "19992a7f-13fb-49d4-c732-7c44955ada1c"
      },
      "execution_count": 1247,
      "outputs": [
        {
          "output_type": "execute_result",
          "data": {
            "text/plain": [
              "array([[50, 25],\n",
              "       [ 0, 25]])"
            ]
          },
          "metadata": {},
          "execution_count": 1247
        }
      ]
    },
    {
      "cell_type": "markdown",
      "source": [
        "Classification report for performance of the model on the test set for dataset1 (known images)"
      ],
      "metadata": {
        "id": "geRSwQmKbcIl"
      }
    },
    {
      "cell_type": "code",
      "source": [
        "from sklearn.metrics import classification_report\n",
        "print(classification_report(\n",
        "  correct_labels, \n",
        "  predicted_labels, \n",
        "  \n",
        "\n",
        "))"
      ],
      "metadata": {
        "colab": {
          "base_uri": "https://localhost:8080/"
        },
        "id": "H2-wYbCMG5Le",
        "outputId": "b153206b-2e61-42c8-ab4b-bdf54b522459"
      },
      "execution_count": 1248,
      "outputs": [
        {
          "output_type": "stream",
          "name": "stdout",
          "text": [
            "              precision    recall  f1-score   support\n",
            "\n",
            "           0       0.67      1.00      0.80        50\n",
            "           1       1.00      0.50      0.67        50\n",
            "\n",
            "    accuracy                           0.75       100\n",
            "   macro avg       0.83      0.75      0.73       100\n",
            "weighted avg       0.83      0.75      0.73       100\n",
            "\n"
          ]
        }
      ]
    },
    {
      "cell_type": "code",
      "source": [
        "saved_model_path = \"/content/drive/MyDrive/Models/custom5-weights/saved_model.h5\"\n",
        "model.save(saved_model_path)"
      ],
      "metadata": {
        "id": "HHM-EigfHwgG"
      },
      "execution_count": 1249,
      "outputs": []
    },
    {
      "cell_type": "code",
      "source": [
        "from tensorflow.keras import layers, models, utils, losses, callbacks\n",
        "import pandas as pd\n",
        "import numpy as np"
      ],
      "metadata": {
        "id": "gT1zAWOKH6VJ"
      },
      "execution_count": 1250,
      "outputs": []
    },
    {
      "cell_type": "markdown",
      "source": [
        "Using the model to predict each class of the unknown images"
      ],
      "metadata": {
        "id": "gfDrgV8ObTl1"
      }
    },
    {
      "cell_type": "code",
      "source": [
        "prediction_model_on_unknown = models.load_model(saved_model_path)\n",
        "unknown_preds  = prediction_model_on_unknown.predict(ds_predict)\n",
        "unknown_pred_classes = np.argmax(unknown_preds, axis=1)"
      ],
      "metadata": {
        "id": "ZlVlZ1gxH-mg"
      },
      "execution_count": 1251,
      "outputs": []
    },
    {
      "cell_type": "code",
      "source": [
        "res_df = pd.DataFrame({\n",
        "    \"patient\" : ds_predict.file_paths,\n",
        "    \"diagnosis (0-Normal, 1-Sick)\": unknown_pred_classes\n",
        "    \n",
        "})\n",
        "\n",
        "res_df.head(50)"
      ],
      "metadata": {
        "colab": {
          "base_uri": "https://localhost:8080/",
          "height": 654
        },
        "id": "R0MiAw81ILEy",
        "outputId": "275e5ec6-8091-4f73-dbe6-a81f35bdb386"
      },
      "execution_count": 1263,
      "outputs": [
        {
          "output_type": "execute_result",
          "data": {
            "text/plain": [
              "                                  patient  diagnosis (0-Normal, 1-Sick)\n",
              "0   /content/drive/MyDrive/new/new/28.png                             0\n",
              "1   /content/drive/MyDrive/new/new/35.png                             0\n",
              "2   /content/drive/MyDrive/new/new/14.png                             0\n",
              "3   /content/drive/MyDrive/new/new/32.png                             1\n",
              "4    /content/drive/MyDrive/new/new/6.png                             0\n",
              "5    /content/drive/MyDrive/new/new/3.png                             0\n",
              "6   /content/drive/MyDrive/new/new/37.png                             0\n",
              "7    /content/drive/MyDrive/new/new/2.png                             1\n",
              "8   /content/drive/MyDrive/new/new/21.png                             0\n",
              "9   /content/drive/MyDrive/new/new/25.png                             0\n",
              "10   /content/drive/MyDrive/new/new/4.png                             0\n",
              "11  /content/drive/MyDrive/new/new/20.png                             0\n",
              "12  /content/drive/MyDrive/new/new/33.png                             0\n",
              "13   /content/drive/MyDrive/new/new/5.png                             0\n",
              "14  /content/drive/MyDrive/new/new/12.png                             0\n",
              "15  /content/drive/MyDrive/new/new/44.png                             0\n",
              "16  /content/drive/MyDrive/new/new/15.png                             0\n",
              "17  /content/drive/MyDrive/new/new/39.png                             1\n",
              "18  /content/drive/MyDrive/new/new/22.png                             0\n",
              "19   /content/drive/MyDrive/new/new/1.png                             1\n",
              "20  /content/drive/MyDrive/new/new/47.png                             0\n",
              "21  /content/drive/MyDrive/new/new/18.png                             0\n",
              "22  /content/drive/MyDrive/new/new/19.png                             0\n",
              "23   /content/drive/MyDrive/new/new/7.png                             0\n",
              "24  /content/drive/MyDrive/new/new/27.png                             0\n",
              "25  /content/drive/MyDrive/new/new/34.png                             0\n",
              "26  /content/drive/MyDrive/new/new/46.png                             0\n",
              "27  /content/drive/MyDrive/new/new/17.png                             0\n",
              "28  /content/drive/MyDrive/new/new/38.png                             0\n",
              "29  /content/drive/MyDrive/new/new/31.png                             0\n",
              "30  /content/drive/MyDrive/new/new/26.png                             0\n",
              "31  /content/drive/MyDrive/new/new/10.png                             0\n",
              "32   /content/drive/MyDrive/new/new/9.png                             1\n",
              "33  /content/drive/MyDrive/new/new/50.png                             0\n",
              "34  /content/drive/MyDrive/new/new/40.png                             0\n",
              "35  /content/drive/MyDrive/new/new/16.png                             0\n",
              "36  /content/drive/MyDrive/new/new/43.png                             0\n",
              "37  /content/drive/MyDrive/new/new/45.png                             0\n",
              "38  /content/drive/MyDrive/new/new/24.png                             0\n",
              "39  /content/drive/MyDrive/new/new/30.png                             0\n",
              "40  /content/drive/MyDrive/new/new/49.png                             0\n",
              "41  /content/drive/MyDrive/new/new/42.png                             0\n",
              "42  /content/drive/MyDrive/new/new/13.png                             0\n",
              "43   /content/drive/MyDrive/new/new/8.png                             0\n",
              "44  /content/drive/MyDrive/new/new/36.png                             0\n",
              "45  /content/drive/MyDrive/new/new/48.png                             0\n",
              "46  /content/drive/MyDrive/new/new/23.png                             0\n",
              "47  /content/drive/MyDrive/new/new/11.png                             0\n",
              "48  /content/drive/MyDrive/new/new/29.png                             1\n",
              "49  /content/drive/MyDrive/new/new/41.png                             0"
            ],
            "text/html": [
              "\n",
              "  <div id=\"df-064c774d-05ef-4aef-883b-c8492445c0ac\">\n",
              "    <div class=\"colab-df-container\">\n",
              "      <div>\n",
              "<style scoped>\n",
              "    .dataframe tbody tr th:only-of-type {\n",
              "        vertical-align: middle;\n",
              "    }\n",
              "\n",
              "    .dataframe tbody tr th {\n",
              "        vertical-align: top;\n",
              "    }\n",
              "\n",
              "    .dataframe thead th {\n",
              "        text-align: right;\n",
              "    }\n",
              "</style>\n",
              "<table border=\"1\" class=\"dataframe\">\n",
              "  <thead>\n",
              "    <tr style=\"text-align: right;\">\n",
              "      <th></th>\n",
              "      <th>patient</th>\n",
              "      <th>diagnosis (0-Normal, 1-Sick)</th>\n",
              "    </tr>\n",
              "  </thead>\n",
              "  <tbody>\n",
              "    <tr>\n",
              "      <th>0</th>\n",
              "      <td>/content/drive/MyDrive/new/new/28.png</td>\n",
              "      <td>0</td>\n",
              "    </tr>\n",
              "    <tr>\n",
              "      <th>1</th>\n",
              "      <td>/content/drive/MyDrive/new/new/35.png</td>\n",
              "      <td>0</td>\n",
              "    </tr>\n",
              "    <tr>\n",
              "      <th>2</th>\n",
              "      <td>/content/drive/MyDrive/new/new/14.png</td>\n",
              "      <td>0</td>\n",
              "    </tr>\n",
              "    <tr>\n",
              "      <th>3</th>\n",
              "      <td>/content/drive/MyDrive/new/new/32.png</td>\n",
              "      <td>1</td>\n",
              "    </tr>\n",
              "    <tr>\n",
              "      <th>4</th>\n",
              "      <td>/content/drive/MyDrive/new/new/6.png</td>\n",
              "      <td>0</td>\n",
              "    </tr>\n",
              "    <tr>\n",
              "      <th>5</th>\n",
              "      <td>/content/drive/MyDrive/new/new/3.png</td>\n",
              "      <td>0</td>\n",
              "    </tr>\n",
              "    <tr>\n",
              "      <th>6</th>\n",
              "      <td>/content/drive/MyDrive/new/new/37.png</td>\n",
              "      <td>0</td>\n",
              "    </tr>\n",
              "    <tr>\n",
              "      <th>7</th>\n",
              "      <td>/content/drive/MyDrive/new/new/2.png</td>\n",
              "      <td>1</td>\n",
              "    </tr>\n",
              "    <tr>\n",
              "      <th>8</th>\n",
              "      <td>/content/drive/MyDrive/new/new/21.png</td>\n",
              "      <td>0</td>\n",
              "    </tr>\n",
              "    <tr>\n",
              "      <th>9</th>\n",
              "      <td>/content/drive/MyDrive/new/new/25.png</td>\n",
              "      <td>0</td>\n",
              "    </tr>\n",
              "    <tr>\n",
              "      <th>10</th>\n",
              "      <td>/content/drive/MyDrive/new/new/4.png</td>\n",
              "      <td>0</td>\n",
              "    </tr>\n",
              "    <tr>\n",
              "      <th>11</th>\n",
              "      <td>/content/drive/MyDrive/new/new/20.png</td>\n",
              "      <td>0</td>\n",
              "    </tr>\n",
              "    <tr>\n",
              "      <th>12</th>\n",
              "      <td>/content/drive/MyDrive/new/new/33.png</td>\n",
              "      <td>0</td>\n",
              "    </tr>\n",
              "    <tr>\n",
              "      <th>13</th>\n",
              "      <td>/content/drive/MyDrive/new/new/5.png</td>\n",
              "      <td>0</td>\n",
              "    </tr>\n",
              "    <tr>\n",
              "      <th>14</th>\n",
              "      <td>/content/drive/MyDrive/new/new/12.png</td>\n",
              "      <td>0</td>\n",
              "    </tr>\n",
              "    <tr>\n",
              "      <th>15</th>\n",
              "      <td>/content/drive/MyDrive/new/new/44.png</td>\n",
              "      <td>0</td>\n",
              "    </tr>\n",
              "    <tr>\n",
              "      <th>16</th>\n",
              "      <td>/content/drive/MyDrive/new/new/15.png</td>\n",
              "      <td>0</td>\n",
              "    </tr>\n",
              "    <tr>\n",
              "      <th>17</th>\n",
              "      <td>/content/drive/MyDrive/new/new/39.png</td>\n",
              "      <td>1</td>\n",
              "    </tr>\n",
              "    <tr>\n",
              "      <th>18</th>\n",
              "      <td>/content/drive/MyDrive/new/new/22.png</td>\n",
              "      <td>0</td>\n",
              "    </tr>\n",
              "    <tr>\n",
              "      <th>19</th>\n",
              "      <td>/content/drive/MyDrive/new/new/1.png</td>\n",
              "      <td>1</td>\n",
              "    </tr>\n",
              "    <tr>\n",
              "      <th>20</th>\n",
              "      <td>/content/drive/MyDrive/new/new/47.png</td>\n",
              "      <td>0</td>\n",
              "    </tr>\n",
              "    <tr>\n",
              "      <th>21</th>\n",
              "      <td>/content/drive/MyDrive/new/new/18.png</td>\n",
              "      <td>0</td>\n",
              "    </tr>\n",
              "    <tr>\n",
              "      <th>22</th>\n",
              "      <td>/content/drive/MyDrive/new/new/19.png</td>\n",
              "      <td>0</td>\n",
              "    </tr>\n",
              "    <tr>\n",
              "      <th>23</th>\n",
              "      <td>/content/drive/MyDrive/new/new/7.png</td>\n",
              "      <td>0</td>\n",
              "    </tr>\n",
              "    <tr>\n",
              "      <th>24</th>\n",
              "      <td>/content/drive/MyDrive/new/new/27.png</td>\n",
              "      <td>0</td>\n",
              "    </tr>\n",
              "    <tr>\n",
              "      <th>25</th>\n",
              "      <td>/content/drive/MyDrive/new/new/34.png</td>\n",
              "      <td>0</td>\n",
              "    </tr>\n",
              "    <tr>\n",
              "      <th>26</th>\n",
              "      <td>/content/drive/MyDrive/new/new/46.png</td>\n",
              "      <td>0</td>\n",
              "    </tr>\n",
              "    <tr>\n",
              "      <th>27</th>\n",
              "      <td>/content/drive/MyDrive/new/new/17.png</td>\n",
              "      <td>0</td>\n",
              "    </tr>\n",
              "    <tr>\n",
              "      <th>28</th>\n",
              "      <td>/content/drive/MyDrive/new/new/38.png</td>\n",
              "      <td>0</td>\n",
              "    </tr>\n",
              "    <tr>\n",
              "      <th>29</th>\n",
              "      <td>/content/drive/MyDrive/new/new/31.png</td>\n",
              "      <td>0</td>\n",
              "    </tr>\n",
              "    <tr>\n",
              "      <th>30</th>\n",
              "      <td>/content/drive/MyDrive/new/new/26.png</td>\n",
              "      <td>0</td>\n",
              "    </tr>\n",
              "    <tr>\n",
              "      <th>31</th>\n",
              "      <td>/content/drive/MyDrive/new/new/10.png</td>\n",
              "      <td>0</td>\n",
              "    </tr>\n",
              "    <tr>\n",
              "      <th>32</th>\n",
              "      <td>/content/drive/MyDrive/new/new/9.png</td>\n",
              "      <td>1</td>\n",
              "    </tr>\n",
              "    <tr>\n",
              "      <th>33</th>\n",
              "      <td>/content/drive/MyDrive/new/new/50.png</td>\n",
              "      <td>0</td>\n",
              "    </tr>\n",
              "    <tr>\n",
              "      <th>34</th>\n",
              "      <td>/content/drive/MyDrive/new/new/40.png</td>\n",
              "      <td>0</td>\n",
              "    </tr>\n",
              "    <tr>\n",
              "      <th>35</th>\n",
              "      <td>/content/drive/MyDrive/new/new/16.png</td>\n",
              "      <td>0</td>\n",
              "    </tr>\n",
              "    <tr>\n",
              "      <th>36</th>\n",
              "      <td>/content/drive/MyDrive/new/new/43.png</td>\n",
              "      <td>0</td>\n",
              "    </tr>\n",
              "    <tr>\n",
              "      <th>37</th>\n",
              "      <td>/content/drive/MyDrive/new/new/45.png</td>\n",
              "      <td>0</td>\n",
              "    </tr>\n",
              "    <tr>\n",
              "      <th>38</th>\n",
              "      <td>/content/drive/MyDrive/new/new/24.png</td>\n",
              "      <td>0</td>\n",
              "    </tr>\n",
              "    <tr>\n",
              "      <th>39</th>\n",
              "      <td>/content/drive/MyDrive/new/new/30.png</td>\n",
              "      <td>0</td>\n",
              "    </tr>\n",
              "    <tr>\n",
              "      <th>40</th>\n",
              "      <td>/content/drive/MyDrive/new/new/49.png</td>\n",
              "      <td>0</td>\n",
              "    </tr>\n",
              "    <tr>\n",
              "      <th>41</th>\n",
              "      <td>/content/drive/MyDrive/new/new/42.png</td>\n",
              "      <td>0</td>\n",
              "    </tr>\n",
              "    <tr>\n",
              "      <th>42</th>\n",
              "      <td>/content/drive/MyDrive/new/new/13.png</td>\n",
              "      <td>0</td>\n",
              "    </tr>\n",
              "    <tr>\n",
              "      <th>43</th>\n",
              "      <td>/content/drive/MyDrive/new/new/8.png</td>\n",
              "      <td>0</td>\n",
              "    </tr>\n",
              "    <tr>\n",
              "      <th>44</th>\n",
              "      <td>/content/drive/MyDrive/new/new/36.png</td>\n",
              "      <td>0</td>\n",
              "    </tr>\n",
              "    <tr>\n",
              "      <th>45</th>\n",
              "      <td>/content/drive/MyDrive/new/new/48.png</td>\n",
              "      <td>0</td>\n",
              "    </tr>\n",
              "    <tr>\n",
              "      <th>46</th>\n",
              "      <td>/content/drive/MyDrive/new/new/23.png</td>\n",
              "      <td>0</td>\n",
              "    </tr>\n",
              "    <tr>\n",
              "      <th>47</th>\n",
              "      <td>/content/drive/MyDrive/new/new/11.png</td>\n",
              "      <td>0</td>\n",
              "    </tr>\n",
              "    <tr>\n",
              "      <th>48</th>\n",
              "      <td>/content/drive/MyDrive/new/new/29.png</td>\n",
              "      <td>1</td>\n",
              "    </tr>\n",
              "    <tr>\n",
              "      <th>49</th>\n",
              "      <td>/content/drive/MyDrive/new/new/41.png</td>\n",
              "      <td>0</td>\n",
              "    </tr>\n",
              "  </tbody>\n",
              "</table>\n",
              "</div>\n",
              "      <button class=\"colab-df-convert\" onclick=\"convertToInteractive('df-064c774d-05ef-4aef-883b-c8492445c0ac')\"\n",
              "              title=\"Convert this dataframe to an interactive table.\"\n",
              "              style=\"display:none;\">\n",
              "        \n",
              "  <svg xmlns=\"http://www.w3.org/2000/svg\" height=\"24px\"viewBox=\"0 0 24 24\"\n",
              "       width=\"24px\">\n",
              "    <path d=\"M0 0h24v24H0V0z\" fill=\"none\"/>\n",
              "    <path d=\"M18.56 5.44l.94 2.06.94-2.06 2.06-.94-2.06-.94-.94-2.06-.94 2.06-2.06.94zm-11 1L8.5 8.5l.94-2.06 2.06-.94-2.06-.94L8.5 2.5l-.94 2.06-2.06.94zm10 10l.94 2.06.94-2.06 2.06-.94-2.06-.94-.94-2.06-.94 2.06-2.06.94z\"/><path d=\"M17.41 7.96l-1.37-1.37c-.4-.4-.92-.59-1.43-.59-.52 0-1.04.2-1.43.59L10.3 9.45l-7.72 7.72c-.78.78-.78 2.05 0 2.83L4 21.41c.39.39.9.59 1.41.59.51 0 1.02-.2 1.41-.59l7.78-7.78 2.81-2.81c.8-.78.8-2.07 0-2.86zM5.41 20L4 18.59l7.72-7.72 1.47 1.35L5.41 20z\"/>\n",
              "  </svg>\n",
              "      </button>\n",
              "      \n",
              "  <style>\n",
              "    .colab-df-container {\n",
              "      display:flex;\n",
              "      flex-wrap:wrap;\n",
              "      gap: 12px;\n",
              "    }\n",
              "\n",
              "    .colab-df-convert {\n",
              "      background-color: #E8F0FE;\n",
              "      border: none;\n",
              "      border-radius: 50%;\n",
              "      cursor: pointer;\n",
              "      display: none;\n",
              "      fill: #1967D2;\n",
              "      height: 32px;\n",
              "      padding: 0 0 0 0;\n",
              "      width: 32px;\n",
              "    }\n",
              "\n",
              "    .colab-df-convert:hover {\n",
              "      background-color: #E2EBFA;\n",
              "      box-shadow: 0px 1px 2px rgba(60, 64, 67, 0.3), 0px 1px 3px 1px rgba(60, 64, 67, 0.15);\n",
              "      fill: #174EA6;\n",
              "    }\n",
              "\n",
              "    [theme=dark] .colab-df-convert {\n",
              "      background-color: #3B4455;\n",
              "      fill: #D2E3FC;\n",
              "    }\n",
              "\n",
              "    [theme=dark] .colab-df-convert:hover {\n",
              "      background-color: #434B5C;\n",
              "      box-shadow: 0px 1px 3px 1px rgba(0, 0, 0, 0.15);\n",
              "      filter: drop-shadow(0px 1px 2px rgba(0, 0, 0, 0.3));\n",
              "      fill: #FFFFFF;\n",
              "    }\n",
              "  </style>\n",
              "\n",
              "      <script>\n",
              "        const buttonEl =\n",
              "          document.querySelector('#df-064c774d-05ef-4aef-883b-c8492445c0ac button.colab-df-convert');\n",
              "        buttonEl.style.display =\n",
              "          google.colab.kernel.accessAllowed ? 'block' : 'none';\n",
              "\n",
              "        async function convertToInteractive(key) {\n",
              "          const element = document.querySelector('#df-064c774d-05ef-4aef-883b-c8492445c0ac');\n",
              "          const dataTable =\n",
              "            await google.colab.kernel.invokeFunction('convertToInteractive',\n",
              "                                                     [key], {});\n",
              "          if (!dataTable) return;\n",
              "\n",
              "          const docLinkHtml = 'Like what you see? Visit the ' +\n",
              "            '<a target=\"_blank\" href=https://colab.research.google.com/notebooks/data_table.ipynb>data table notebook</a>'\n",
              "            + ' to learn more about interactive tables.';\n",
              "          element.innerHTML = '';\n",
              "          dataTable['output_type'] = 'display_data';\n",
              "          await google.colab.output.renderOutput(dataTable, element);\n",
              "          const docLink = document.createElement('div');\n",
              "          docLink.innerHTML = docLinkHtml;\n",
              "          element.appendChild(docLink);\n",
              "        }\n",
              "      </script>\n",
              "    </div>\n",
              "  </div>\n",
              "  "
            ]
          },
          "metadata": {},
          "execution_count": 1263
        }
      ]
    },
    {
      "cell_type": "markdown",
      "source": [
        "Saving the predictions for each image in a csv"
      ],
      "metadata": {
        "id": "51e4zVlFbK5L"
      }
    },
    {
      "cell_type": "code",
      "source": [
        "# save the dataframe as a csv file\n",
        "res_df.to_csv(\"/content/drive/MyDrive/Models/custom5-weights/saved_model.h5\", index=False)"
      ],
      "metadata": {
        "id": "7Lmyknf3IYjs"
      },
      "execution_count": 1253,
      "outputs": []
    },
    {
      "cell_type": "code",
      "source": [
        "# save the dataframe as a csv file\n",
        "res_df.to_csv(\"/content/drive/MyDrive/Models/csv\", index=False)"
      ],
      "metadata": {
        "id": "BhMztP7VqcJP"
      },
      "execution_count": 1262,
      "outputs": []
    },
    {
      "cell_type": "markdown",
      "source": [
        "Testing the model on dataset2 to determine the generalisation of the model"
      ],
      "metadata": {
        "id": "CVEYFm0wbCD4"
      }
    },
    {
      "cell_type": "code",
      "source": [
        "test2_dir=\"/content/drive/MyDrive/Dataset2\""
      ],
      "metadata": {
        "id": "BqTKlgsTqee9"
      },
      "execution_count": 1254,
      "outputs": []
    },
    {
      "cell_type": "code",
      "source": [
        "ds_test2=tf.keras.preprocessing.image_dataset_from_directory(test2_dir,\n",
        "#label_path,\n",
        "labels='inferred', \n",
        "label_mode=\"int\", \n",
        "color_mode='grayscale',\n",
        "batch_size=28,\n",
        " image_size = (img_height,img_width),\n",
        " #crop_to_aspect_ratio=True,\n",
        "  interpolation=\"mitchellcubic\" ,\n",
        "  seed=123,\n",
        "                                                           \n",
        ")"
      ],
      "metadata": {
        "colab": {
          "base_uri": "https://localhost:8080/"
        },
        "id": "AyuXed6JIf1L",
        "outputId": "1c84c2e7-a65a-47b5-e109-630434daca98"
      },
      "execution_count": 1255,
      "outputs": [
        {
          "output_type": "stream",
          "name": "stdout",
          "text": [
            "Found 224 files belonging to 2 classes.\n"
          ]
        }
      ]
    },
    {
      "cell_type": "code",
      "source": [
        "# Predictions\n",
        "preds = model.predict(ds_test2)"
      ],
      "metadata": {
        "id": "LT2TOCJLJb0S"
      },
      "execution_count": 1256,
      "outputs": []
    },
    {
      "cell_type": "code",
      "source": [
        "# Get classes\n",
        "pred_classes = (preds>=0.5).astype(int)"
      ],
      "metadata": {
        "id": "0Gaf8LvBJdXZ"
      },
      "execution_count": 1257,
      "outputs": []
    },
    {
      "cell_type": "code",
      "source": [
        "y_pred = []  # storing predicted labels\n",
        "y_true = []  # storing true labels\n",
        "\n",
        "for image_batch, label_batch in ds_test2:\n",
        "   # append true labels\n",
        "   y_true.append(label_batch)\n",
        "   # compute predictions\n",
        "   preds = model.predict(image_batch)\n",
        "   # append predicted labels\n",
        "   y_pred.append(np.argmax(preds, axis = - 1))\n",
        "\n",
        "# convert the true and predicted labels into tensors\n",
        "correct_labels = tf.concat([item for item in y_true], axis = 0)\n",
        "predicted_labels = tf.concat([item for item in y_pred], axis = 0)"
      ],
      "metadata": {
        "id": "MFy3pFCAJlA9"
      },
      "execution_count": 1258,
      "outputs": []
    },
    {
      "cell_type": "code",
      "source": [
        "from sklearn.metrics._plot.confusion_matrix import confusion_matrix\n",
        "confusion_matrix(predicted_labels, correct_labels)"
      ],
      "metadata": {
        "colab": {
          "base_uri": "https://localhost:8080/"
        },
        "id": "Pe5jkwOjJwXF",
        "outputId": "94cc60ec-1df8-4969-a47e-df1ae761eda3"
      },
      "execution_count": 1259,
      "outputs": [
        {
          "output_type": "execute_result",
          "data": {
            "text/plain": [
              "array([[94, 62],\n",
              "       [18, 50]])"
            ]
          },
          "metadata": {},
          "execution_count": 1259
        }
      ]
    },
    {
      "cell_type": "code",
      "source": [
        "from sklearn.metrics import classification_report\n",
        "print(classification_report(\n",
        "  correct_labels, \n",
        "  predicted_labels, \n",
        "  \n",
        "\n",
        "))"
      ],
      "metadata": {
        "colab": {
          "base_uri": "https://localhost:8080/"
        },
        "id": "3GI_rgFSJ74l",
        "outputId": "8a8cf177-c7cd-4802-b234-15609b5d2f20"
      },
      "execution_count": 1260,
      "outputs": [
        {
          "output_type": "stream",
          "name": "stdout",
          "text": [
            "              precision    recall  f1-score   support\n",
            "\n",
            "           0       0.60      0.84      0.70       112\n",
            "           1       0.74      0.45      0.56       112\n",
            "\n",
            "    accuracy                           0.64       224\n",
            "   macro avg       0.67      0.64      0.63       224\n",
            "weighted avg       0.67      0.64      0.63       224\n",
            "\n"
          ]
        }
      ]
    },
    {
      "cell_type": "code",
      "source": [],
      "metadata": {
        "id": "CQTAh_iUmm_j"
      },
      "execution_count": 1260,
      "outputs": []
    }
  ]
}