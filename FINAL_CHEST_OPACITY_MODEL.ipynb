{
  "nbformat": 4,
  "nbformat_minor": 0,
  "metadata": {
    "colab": {
      "name": "FINAL CHEST OPACITY MODEL.ipynb",
      "provenance": [],
      "collapsed_sections": [],
      "authorship_tag": "ABX9TyNimxdZYvMtU+VxC28bVWvU",
      "include_colab_link": true
    },
    "kernelspec": {
      "name": "python3",
      "display_name": "Python 3"
    },
    "language_info": {
      "name": "python"
    },
    "accelerator": "GPU",
    "gpuClass": "standard"
  },
  "cells": [
    {
      "cell_type": "markdown",
      "metadata": {
        "id": "view-in-github",
        "colab_type": "text"
      },
      "source": [
        "<a href=\"https://colab.research.google.com/github/Ms-Ainebyona/Chest-Opacity-project/blob/colab-main/FINAL_CHEST_OPACITY_MODEL.ipynb\" target=\"_parent\"><img src=\"https://colab.research.google.com/assets/colab-badge.svg\" alt=\"Open In Colab\"/></a>"
      ]
    },
    {
      "cell_type": "markdown",
      "source": [
        "Mounting drive"
      ],
      "metadata": {
        "id": "GDC5fJJ6co1s"
      }
    },
    {
      "cell_type": "code",
      "execution_count": 336,
      "metadata": {
        "colab": {
          "base_uri": "https://localhost:8080/"
        },
        "id": "ua-WsGFyEPjg",
        "outputId": "17baf7a2-e3b9-404a-aa77-7eeccbfc9045"
      },
      "outputs": [
        {
          "output_type": "stream",
          "name": "stdout",
          "text": [
            "Drive already mounted at /content/drive; to attempt to forcibly remount, call drive.mount(\"/content/drive\", force_remount=True).\n"
          ]
        }
      ],
      "source": [
        "from google.colab import drive\n",
        "drive.mount('/content/drive')"
      ]
    },
    {
      "cell_type": "markdown",
      "source": [
        "Importing necessary libraries"
      ],
      "metadata": {
        "id": "50edITZFcsVR"
      }
    },
    {
      "cell_type": "code",
      "source": [
        "import tensorflow as tf\n",
        "import numpy as np\n",
        "import matplotlib.pyplot as plt\n",
        "import keras\n",
        "import keras.utils\n",
        "from tensorflow import keras\n",
        "from tensorflow.keras import layers, optimizers\n",
        "from tensorflow.keras.models import Sequential\n",
        "import os\n",
        "import cv2\n",
        "from tensorflow.keras.preprocessing.image import ImageDataGenerator\n",
        "import os\n",
        "import PIL\n",
        "import PIL.Image\n",
        "import pathlib\n",
        "import glob\n",
        "from tensorflow.keras.preprocessing import image\n",
        "import pandas as pd\n",
        "from tensorflow.keras.preprocessing import image"
      ],
      "metadata": {
        "id": "yudKx29rEyaM"
      },
      "execution_count": 337,
      "outputs": []
    },
    {
      "cell_type": "markdown",
      "source": [
        "Data loading"
      ],
      "metadata": {
        "id": "TJpNLdiwch67"
      }
    },
    {
      "cell_type": "code",
      "source": [
        "train_dir=\"/content/drive/MyDrive/Train data\"\n",
        "predict_dir=\"/content/drive/MyDrive/Deep learning/new\"\n",
        "test_dir=\"/content/drive/MyDrive/Test data\""
      ],
      "metadata": {
        "id": "-JitZ71KE6-_"
      },
      "execution_count": 338,
      "outputs": []
    },
    {
      "cell_type": "markdown",
      "source": [
        "Model parameters"
      ],
      "metadata": {
        "id": "O9dK0659cfAS"
      }
    },
    {
      "cell_type": "code",
      "source": [
        "import keras\n",
        "from tensorflow.keras import layers\n",
        "img_height=200\n",
        "img_width=200\n",
        "batch_size=28\n"
      ],
      "metadata": {
        "id": "TXHx8hkHE-Ie"
      },
      "execution_count": 339,
      "outputs": []
    },
    {
      "cell_type": "code",
      "source": [
        "\n",
        "ds_test=tf.keras.preprocessing.image_dataset_from_directory(test_dir,\n",
        "#label_path,\n",
        "labels='inferred', \n",
        "label_mode=\"int\", \n",
        "color_mode='grayscale',\n",
        "batch_size=batch_size,\n",
        " image_size = (img_height,img_width),\n",
        " #crop_to_aspect_ratio=True,\n",
        "  #interpolation=\"mitchellcubic\" ,\n",
        "  #seed=123,\n",
        "                                                           \n",
        ")"
      ],
      "metadata": {
        "colab": {
          "base_uri": "https://localhost:8080/"
        },
        "id": "YA0_AB5qFAv9",
        "outputId": "79fca316-1433-4bda-e36d-5e5cd029b1fb"
      },
      "execution_count": 340,
      "outputs": [
        {
          "output_type": "stream",
          "name": "stdout",
          "text": [
            "Found 100 files belonging to 2 classes.\n"
          ]
        }
      ]
    },
    {
      "cell_type": "code",
      "source": [
        "ds_train=tf.keras.preprocessing.image_dataset_from_directory(train_dir,\n",
        "labels='inferred', \n",
        "label_mode=\"int\", \n",
        "color_mode='grayscale',\n",
        "batch_size=batch_size,\n",
        " image_size = (img_height,img_width),\n",
        " #shuffle=True,\n",
        " seed=123, \n",
        " validation_split=0.2,\n",
        " subset=\"training\", \n",
        "  #crop_to_aspect_ratio=True,\n",
        "  #interpolation=\"mitchellcubic\",                                                             \n",
        ")\n",
        "ds_validation=tf.keras.preprocessing.image_dataset_from_directory(train_dir, \n",
        "labels='inferred', \n",
        "label_mode=\"int\", \n",
        "color_mode='grayscale',\n",
        "batch_size=batch_size,\n",
        " image_size = (img_height,img_width),\n",
        " #shuffle=True,\n",
        " seed=123,\n",
        " validation_split=0.2,\n",
        " subset=\"validation\",\n",
        "  #crop_to_aspect_ratio=True,\n",
        "  #interpolation=\"mitchellcubic\", \n",
        " )\n",
        "\n",
        "ds_predict=tf.keras.preprocessing.image_dataset_from_directory(predict_dir, \n",
        "labels='inferred', \n",
        "label_mode=\"int\", \n",
        "color_mode='grayscale',\n",
        "batch_size=batch_size,\n",
        " image_size = (img_height,img_width),\n",
        " #shuffle=True,\n",
        " #seed=123,\n",
        "#crop_to_aspect_ratio=True,\n",
        "  #interpolation=\"mitchellcubic\" \n",
        ")\n",
        "\n",
        "def augment(X,Y):\n",
        "  image=tf.image.random_brightness(X,max_delta=0.05)  \n",
        "  ds_train=ds_train.map(augment) \n",
        "  for epoch in range(100):\n",
        "   for X,Y in ds_train:\n",
        "     pass"
      ],
      "metadata": {
        "colab": {
          "base_uri": "https://localhost:8080/"
        },
        "id": "Ow6xbOAWFG5w",
        "outputId": "4393170a-7243-4a63-9ebe-8f6443855815"
      },
      "execution_count": 341,
      "outputs": [
        {
          "output_type": "stream",
          "name": "stdout",
          "text": [
            "Found 615 files belonging to 2 classes.\n",
            "Using 492 files for training.\n",
            "Found 615 files belonging to 2 classes.\n",
            "Using 123 files for validation.\n",
            "Found 50 files belonging to 1 classes.\n"
          ]
        }
      ]
    },
    {
      "cell_type": "code",
      "source": [
        "normalization_layer = tf.keras.layers.Rescaling(1./255)\n",
        "\n",
        "normalized_ds = ds_train.map(lambda x, y: (normalization_layer(x), y))"
      ],
      "metadata": {
        "id": "eYf9TGxXFKLL"
      },
      "execution_count": 342,
      "outputs": []
    },
    {
      "cell_type": "code",
      "source": [
        "AUTOTUNE = tf.data.AUTOTUNE\n",
        "\n",
        "ds_train = ds_train.cache().prefetch(buffer_size=AUTOTUNE)\n",
        "ds_validation = ds_validation.cache().prefetch(buffer_size=AUTOTUNE)"
      ],
      "metadata": {
        "id": "ncnvteflFNvD"
      },
      "execution_count": 343,
      "outputs": []
    },
    {
      "cell_type": "markdown",
      "source": [
        "Data Augmentation"
      ],
      "metadata": {
        "id": "ucuQG2ptcEET"
      }
    },
    {
      "cell_type": "code",
      "source": [
        "data_augmentation = keras.Sequential(\n",
        "  [\n",
        "    layers.RandomFlip(\"horizontal\",\n",
        "                      input_shape=(img_height,\n",
        "                                  img_width,\n",
        "                                  1)),\n",
        "    layers.RandomRotation(0.6),\n",
        "    layers.RandomZoom(0.2),\n",
        "  ]\n",
        ")"
      ],
      "metadata": {
        "id": "s8yxTO7iFQ-S"
      },
      "execution_count": 344,
      "outputs": []
    },
    {
      "cell_type": "markdown",
      "source": [
        "Model definition"
      ],
      "metadata": {
        "id": "T2tN8GCZcAn8"
      }
    },
    {
      "cell_type": "code",
      "source": [
        "model=keras.Sequential([\n",
        "    data_augmentation,\n",
        "    layers.Input((200,200,1)),\n",
        "    layers.Conv2D(16,3, padding='same', activation='relu'),\n",
        "    layers.MaxPooling2D(),\n",
        "    layers.Conv2D(32,3, padding='same',activation='relu'),\n",
        "    layers.MaxPooling2D(),\n",
        "    layers.Conv2D(64,3, padding='same',activation='relu'),\n",
        "    layers.MaxPooling2D(),\n",
        "    layers.Conv2D(128,3, padding='same',activation='relu'),\n",
        "    layers.MaxPooling2D(),\n",
        "    layers.Conv2D(256,3, padding='same',activation='relu'),\n",
        "    layers.MaxPooling2D(),\n",
        "    layers.Conv2D(512,3, padding='same',activation='relu'),\n",
        "    layers.MaxPooling2D(),\n",
        "    layers.Conv2D(512,3, padding='same',activation='relu'),\n",
        "    layers.MaxPooling2D(),\n",
        "    layers.Dropout(0.3),\n",
        "    layers.Flatten(),\n",
        "    layers.Dense(2),\n",
        "    layers.Dense(128, activation='relu'),\n",
        "  \n",
        "\n",
        "])"
      ],
      "metadata": {
        "id": "MrueCysAFUFz"
      },
      "execution_count": 345,
      "outputs": []
    },
    {
      "cell_type": "markdown",
      "source": [
        "Model compilation"
      ],
      "metadata": {
        "id": "ysrqqRoBb7oT"
      }
    },
    {
      "cell_type": "code",
      "source": [
        "model.compile(\n",
        "    optimizer='adam',\n",
        "    loss=[\n",
        "        keras.losses.SparseCategoricalCrossentropy(from_logits=True),\n",
        "    ],\n",
        "    metrics=[\"accuracy\"],\n",
        ")  \n",
        "history= model.fit(ds_train,epochs=20,batch_size=28,validation_data=ds_validation,verbose=2)   "
      ],
      "metadata": {
        "colab": {
          "base_uri": "https://localhost:8080/"
        },
        "id": "H8xvS1PhFXGv",
        "outputId": "97286e20-21e9-4f6d-d048-a5b6da4d5450"
      },
      "execution_count": 346,
      "outputs": [
        {
          "output_type": "stream",
          "name": "stdout",
          "text": [
            "Epoch 1/20\n",
            "18/18 - 4s - loss: 6.8395 - accuracy: 0.0000e+00 - val_loss: 4.6605 - val_accuracy: 0.0000e+00 - 4s/epoch - 210ms/step\n",
            "Epoch 2/20\n",
            "18/18 - 1s - loss: 4.5367 - accuracy: 0.0000e+00 - val_loss: 4.4959 - val_accuracy: 0.0000e+00 - 589ms/epoch - 33ms/step\n",
            "Epoch 3/20\n",
            "18/18 - 1s - loss: 4.2573 - accuracy: 0.0020 - val_loss: 4.2233 - val_accuracy: 0.0081 - 598ms/epoch - 33ms/step\n",
            "Epoch 4/20\n",
            "18/18 - 1s - loss: 3.8400 - accuracy: 0.0996 - val_loss: 3.6831 - val_accuracy: 0.4634 - 582ms/epoch - 32ms/step\n",
            "Epoch 5/20\n",
            "18/18 - 1s - loss: 3.2710 - accuracy: 0.5203 - val_loss: 3.2945 - val_accuracy: 0.4634 - 588ms/epoch - 33ms/step\n",
            "Epoch 6/20\n",
            "18/18 - 1s - loss: 3.0226 - accuracy: 0.5203 - val_loss: 3.1118 - val_accuracy: 0.4553 - 586ms/epoch - 33ms/step\n",
            "Epoch 7/20\n",
            "18/18 - 1s - loss: 2.8498 - accuracy: 0.5203 - val_loss: 3.0893 - val_accuracy: 0.4553 - 585ms/epoch - 33ms/step\n",
            "Epoch 8/20\n",
            "18/18 - 1s - loss: 2.7663 - accuracy: 0.5224 - val_loss: 3.1544 - val_accuracy: 0.4553 - 591ms/epoch - 33ms/step\n",
            "Epoch 9/20\n",
            "18/18 - 1s - loss: 2.2074 - accuracy: 0.4898 - val_loss: 1.4832 - val_accuracy: 0.6667 - 587ms/epoch - 33ms/step\n",
            "Epoch 10/20\n",
            "18/18 - 1s - loss: 0.8515 - accuracy: 0.7419 - val_loss: 0.6311 - val_accuracy: 0.7236 - 591ms/epoch - 33ms/step\n",
            "Epoch 11/20\n",
            "18/18 - 1s - loss: 0.5545 - accuracy: 0.7683 - val_loss: 0.7721 - val_accuracy: 0.7317 - 587ms/epoch - 33ms/step\n",
            "Epoch 12/20\n",
            "18/18 - 1s - loss: 0.3998 - accuracy: 0.8557 - val_loss: 0.6312 - val_accuracy: 0.7805 - 583ms/epoch - 32ms/step\n",
            "Epoch 13/20\n",
            "18/18 - 1s - loss: 0.3731 - accuracy: 0.8333 - val_loss: 0.6313 - val_accuracy: 0.7805 - 592ms/epoch - 33ms/step\n",
            "Epoch 14/20\n",
            "18/18 - 1s - loss: 0.3963 - accuracy: 0.8516 - val_loss: 0.5730 - val_accuracy: 0.8130 - 589ms/epoch - 33ms/step\n",
            "Epoch 15/20\n",
            "18/18 - 1s - loss: 0.4494 - accuracy: 0.8069 - val_loss: 0.6740 - val_accuracy: 0.7398 - 588ms/epoch - 33ms/step\n",
            "Epoch 16/20\n",
            "18/18 - 1s - loss: 0.3402 - accuracy: 0.8577 - val_loss: 0.5580 - val_accuracy: 0.7886 - 590ms/epoch - 33ms/step\n",
            "Epoch 17/20\n",
            "18/18 - 1s - loss: 0.2997 - accuracy: 0.8780 - val_loss: 1.0513 - val_accuracy: 0.6748 - 588ms/epoch - 33ms/step\n",
            "Epoch 18/20\n",
            "18/18 - 1s - loss: 0.3306 - accuracy: 0.8638 - val_loss: 0.4482 - val_accuracy: 0.8211 - 587ms/epoch - 33ms/step\n",
            "Epoch 19/20\n",
            "18/18 - 1s - loss: 0.3591 - accuracy: 0.8415 - val_loss: 0.8474 - val_accuracy: 0.7398 - 591ms/epoch - 33ms/step\n",
            "Epoch 20/20\n",
            "18/18 - 1s - loss: 0.3367 - accuracy: 0.8537 - val_loss: 0.7907 - val_accuracy: 0.7398 - 589ms/epoch - 33ms/step\n"
          ]
        }
      ]
    },
    {
      "cell_type": "code",
      "source": [
        "model.evaluate(ds_validation, verbose=2)"
      ],
      "metadata": {
        "colab": {
          "base_uri": "https://localhost:8080/"
        },
        "id": "8h3p2XoMFb4Y",
        "outputId": "2105e659-fa72-4faf-c542-34fef8747bf9"
      },
      "execution_count": 347,
      "outputs": [
        {
          "output_type": "stream",
          "name": "stdout",
          "text": [
            "5/5 - 0s - loss: 0.7907 - accuracy: 0.7398 - 62ms/epoch - 12ms/step\n"
          ]
        },
        {
          "output_type": "execute_result",
          "data": {
            "text/plain": [
              "[0.790742814540863, 0.7398374080657959]"
            ]
          },
          "metadata": {},
          "execution_count": 347
        }
      ]
    },
    {
      "cell_type": "code",
      "source": [
        "# Visualization of training accuracy and loss curves\n",
        "plt.plot(history.history['accuracy'], label='accuracy')\n",
        "plt.plot(history.history['val_accuracy'], label = 'val_accuracy')\n",
        "plt.xlabel('Epoch')\n",
        "plt.ylabel('Accuracy')\n",
        "plt.legend(loc='lower right')"
      ],
      "metadata": {
        "colab": {
          "base_uri": "https://localhost:8080/",
          "height": 296
        },
        "id": "r8mIVdY_FfaI",
        "outputId": "a1dbea3f-a5b7-41fc-e397-b1fc1e53960c"
      },
      "execution_count": 348,
      "outputs": [
        {
          "output_type": "execute_result",
          "data": {
            "text/plain": [
              "<matplotlib.legend.Legend at 0x7fdc8cd8d950>"
            ]
          },
          "metadata": {},
          "execution_count": 348
        },
        {
          "output_type": "display_data",
          "data": {
            "text/plain": [
              "<Figure size 432x288 with 1 Axes>"
            ],
            "image/png": "[encoded data removed]"
          },
          "metadata": {
            "needs_background": "light"
          }
        }
      ]
    },
    {
      "cell_type": "code",
      "source": [
        "# Visualization of the training accuracy and loss curves\n",
        "plt.plot(history.history['loss'], label='loss')\n",
        "plt.plot(history.history['val_loss'], label = 'val_loss')\n",
        "plt.xlabel('Epoch')\n",
        "plt.ylabel('Loss')\n",
        "plt.legend(loc='upper right')"
      ],
      "metadata": {
        "colab": {
          "base_uri": "https://localhost:8080/",
          "height": 296
        },
        "id": "oDBMjusAFizb",
        "outputId": "78163428-03a2-4877-9727-02828c94cbd1"
      },
      "execution_count": 349,
      "outputs": [
        {
          "output_type": "execute_result",
          "data": {
            "text/plain": [
              "<matplotlib.legend.Legend at 0x7fdc8ce32a90>"
            ]
          },
          "metadata": {},
          "execution_count": 349
        },
        {
          "output_type": "display_data",
          "data": {
            "text/plain": [
              "<Figure size 432x288 with 1 Axes>"
            ],
            "image/png": "[encoded data removed]"
          },
          "metadata": {
            "needs_background": "light"
          }
        }
      ]
    },
    {
      "cell_type": "markdown",
      "source": [
        "Predictions"
      ],
      "metadata": {
        "id": "G6uB9Csxb3Fj"
      }
    },
    {
      "cell_type": "code",
      "source": [
        "# Predictions\n",
        "preds = model.predict(ds_test)"
      ],
      "metadata": {
        "id": "lg6hIAUBGsbr"
      },
      "execution_count": 350,
      "outputs": []
    },
    {
      "cell_type": "code",
      "source": [
        "# Get classes\n",
        "pred_classes = (preds>=0.5).astype(int)"
      ],
      "metadata": {
        "id": "q9RqQi1PGvDT"
      },
      "execution_count": 351,
      "outputs": []
    },
    {
      "cell_type": "code",
      "source": [
        "\n",
        "y_pred = []  # storing predicted labels\n",
        "y_true = []  # storing true labels\n",
        "\n",
        "for image_batch, label_batch in ds_test:\n",
        "   # append true labels\n",
        "   y_true.append(label_batch)\n",
        "   # compute predictions\n",
        "   preds = model.predict(image_batch)\n",
        "   # append predicted labels\n",
        "   y_pred.append(np.argmax(preds, axis = - 1))\n",
        "\n",
        "# convert the true and predicted labels into tensors\n",
        "correct_labels = tf.concat([item for item in y_true], axis = 0)\n",
        "predicted_labels = tf.concat([item for item in y_pred], axis = 0)"
      ],
      "metadata": {
        "id": "4MG4FlrGGyhC"
      },
      "execution_count": 352,
      "outputs": []
    },
    {
      "cell_type": "markdown",
      "source": [
        "Confusion matrix for the test set of dataset 1(known images)"
      ],
      "metadata": {
        "id": "3ps7ft26btgg"
      }
    },
    {
      "cell_type": "code",
      "source": [
        "from sklearn.metrics._plot.confusion_matrix import confusion_matrix\n",
        "confusion_matrix(predicted_labels, correct_labels)"
      ],
      "metadata": {
        "colab": {
          "base_uri": "https://localhost:8080/"
        },
        "id": "MtoxTp8HG2RS",
        "outputId": "6638e36b-0edd-4e01-a659-b608ece71021"
      },
      "execution_count": 353,
      "outputs": [
        {
          "output_type": "execute_result",
          "data": {
            "text/plain": [
              "array([[50, 20],\n",
              "       [ 0, 30]])"
            ]
          },
          "metadata": {},
          "execution_count": 353
        }
      ]
    },
    {
      "cell_type": "markdown",
      "source": [
        "Classification report for performance of the model on the test set for dataset1 (known images)"
      ],
      "metadata": {
        "id": "geRSwQmKbcIl"
      }
    },
    {
      "cell_type": "code",
      "source": [
        "from sklearn.metrics import classification_report\n",
        "print(classification_report(\n",
        "  correct_labels, \n",
        "  predicted_labels, \n",
        "  \n",
        "\n",
        "))"
      ],
      "metadata": {
        "colab": {
          "base_uri": "https://localhost:8080/"
        },
        "id": "H2-wYbCMG5Le",
        "outputId": "f632bc43-9219-4448-b71f-2ec0a158c5ea"
      },
      "execution_count": 354,
      "outputs": [
        {
          "output_type": "stream",
          "name": "stdout",
          "text": [
            "              precision    recall  f1-score   support\n",
            "\n",
            "           0       0.71      1.00      0.83        50\n",
            "           1       1.00      0.60      0.75        50\n",
            "\n",
            "    accuracy                           0.80       100\n",
            "   macro avg       0.86      0.80      0.79       100\n",
            "weighted avg       0.86      0.80      0.79       100\n",
            "\n"
          ]
        }
      ]
    },
    {
      "cell_type": "code",
      "source": [
        "saved_model_path = \"/content/drive/MyDrive/Models/custom5-weights/saved_model.h5\"\n",
        "model.save(saved_model_path)"
      ],
      "metadata": {
        "id": "HHM-EigfHwgG"
      },
      "execution_count": 355,
      "outputs": []
    },
    {
      "cell_type": "code",
      "source": [
        "from tensorflow.keras import layers, models, utils, losses, callbacks\n",
        "import pandas as pd\n",
        "import numpy as np"
      ],
      "metadata": {
        "id": "gT1zAWOKH6VJ"
      },
      "execution_count": 356,
      "outputs": []
    },
    {
      "cell_type": "markdown",
      "source": [
        "Using the model to predict each class of the unknown images"
      ],
      "metadata": {
        "id": "gfDrgV8ObTl1"
      }
    },
    {
      "cell_type": "code",
      "source": [
        "prediction_model_on_unknown = models.load_model(saved_model_path)\n",
        "unknown_preds  = prediction_model_on_unknown.predict(ds_predict)\n",
        "unknown_pred_classes = np.argmax(unknown_preds, axis=1)"
      ],
      "metadata": {
        "id": "ZlVlZ1gxH-mg"
      },
      "execution_count": 357,
      "outputs": []
    },
    {
      "cell_type": "code",
      "source": [
        "res_df = pd.DataFrame({\n",
        "    \"patient\" : ds_predict.file_paths,\n",
        "    \"diagnosis (0-Normal, 1-Sick)\": unknown_pred_classes\n",
        "    \n",
        "})\n",
        "\n",
        "res_df.head(5)"
      ],
      "metadata": {
        "colab": {
          "base_uri": "https://localhost:8080/",
          "height": 206
        },
        "id": "R0MiAw81ILEy",
        "outputId": "8f73d9d4-cb07-42e4-e28a-f9ab03a5731f"
      },
      "execution_count": 358,
      "outputs": [
        {
          "output_type": "execute_result",
          "data": {
            "text/plain": [
              "                                             patient  \\\n",
              "0  /content/drive/MyDrive/Deep learning/new/unkno...   \n",
              "1  /content/drive/MyDrive/Deep learning/new/unkno...   \n",
              "2  /content/drive/MyDrive/Deep learning/new/unkno...   \n",
              "3  /content/drive/MyDrive/Deep learning/new/unkno...   \n",
              "4  /content/drive/MyDrive/Deep learning/new/unkno...   \n",
              "\n",
              "   diagnosis (0-Normal, 1-Sick)  \n",
              "0                             1  \n",
              "1                             1  \n",
              "2                             0  \n",
              "3                             1  \n",
              "4                             0  "
            ],
            "text/html": [
              "\n",
              "  <div id=\"df-a8507961-c4b9-4de5-90c8-78eb771a0609\">\n",
              "    <div class=\"colab-df-container\">\n",
              "      <div>\n",
              "<style scoped>\n",
              "    .dataframe tbody tr th:only-of-type {\n",
              "        vertical-align: middle;\n",
              "    }\n",
              "\n",
              "    .dataframe tbody tr th {\n",
              "        vertical-align: top;\n",
              "    }\n",
              "\n",
              "    .dataframe thead th {\n",
              "        text-align: right;\n",
              "    }\n",
              "</style>\n",
              "<table border=\"1\" class=\"dataframe\">\n",
              "  <thead>\n",
              "    <tr style=\"text-align: right;\">\n",
              "      <th></th>\n",
              "      <th>patient</th>\n",
              "      <th>diagnosis (0-Normal, 1-Sick)</th>\n",
              "    </tr>\n",
              "  </thead>\n",
              "  <tbody>\n",
              "    <tr>\n",
              "      <th>0</th>\n",
              "      <td>/content/drive/MyDrive/Deep learning/new/unkno...</td>\n",
              "      <td>1</td>\n",
              "    </tr>\n",
              "    <tr>\n",
              "      <th>1</th>\n",
              "      <td>/content/drive/MyDrive/Deep learning/new/unkno...</td>\n",
              "      <td>1</td>\n",
              "    </tr>\n",
              "    <tr>\n",
              "      <th>2</th>\n",
              "      <td>/content/drive/MyDrive/Deep learning/new/unkno...</td>\n",
              "      <td>0</td>\n",
              "    </tr>\n",
              "    <tr>\n",
              "      <th>3</th>\n",
              "      <td>/content/drive/MyDrive/Deep learning/new/unkno...</td>\n",
              "      <td>1</td>\n",
              "    </tr>\n",
              "    <tr>\n",
              "      <th>4</th>\n",
              "      <td>/content/drive/MyDrive/Deep learning/new/unkno...</td>\n",
              "      <td>0</td>\n",
              "    </tr>\n",
              "  </tbody>\n",
              "</table>\n",
              "</div>\n",
              "      <button class=\"colab-df-convert\" onclick=\"convertToInteractive('df-a8507961-c4b9-4de5-90c8-78eb771a0609')\"\n",
              "              title=\"Convert this dataframe to an interactive table.\"\n",
              "              style=\"display:none;\">\n",
              "        \n",
              "  <svg xmlns=\"http://www.w3.org/2000/svg\" height=\"24px\"viewBox=\"0 0 24 24\"\n",
              "       width=\"24px\">\n",
              "    <path d=\"M0 0h24v24H0V0z\" fill=\"none\"/>\n",
              "    <path d=\"M18.56 5.44l.94 2.06.94-2.06 2.06-.94-2.06-.94-.94-2.06-.94 2.06-2.06.94zm-11 1L8.5 8.5l.94-2.06 2.06-.94-2.06-.94L8.5 2.5l-.94 2.06-2.06.94zm10 10l.94 2.06.94-2.06 2.06-.94-2.06-.94-.94-2.06-.94 2.06-2.06.94z\"/><path d=\"M17.41 7.96l-1.37-1.37c-.4-.4-.92-.59-1.43-.59-.52 0-1.04.2-1.43.59L10.3 9.45l-7.72 7.72c-.78.78-.78 2.05 0 2.83L4 21.41c.39.39.9.59 1.41.59.51 0 1.02-.2 1.41-.59l7.78-7.78 2.81-2.81c.8-.78.8-2.07 0-2.86zM5.41 20L4 18.59l7.72-7.72 1.47 1.35L5.41 20z\"/>\n",
              "  </svg>\n",
              "      </button>\n",
              "      \n",
              "  <style>\n",
              "    .colab-df-container {\n",
              "      display:flex;\n",
              "      flex-wrap:wrap;\n",
              "      gap: 12px;\n",
              "    }\n",
              "\n",
              "    .colab-df-convert {\n",
              "      background-color: #E8F0FE;\n",
              "      border: none;\n",
              "      border-radius: 50%;\n",
              "      cursor: pointer;\n",
              "      display: none;\n",
              "      fill: #1967D2;\n",
              "      height: 32px;\n",
              "      padding: 0 0 0 0;\n",
              "      width: 32px;\n",
              "    }\n",
              "\n",
              "    .colab-df-convert:hover {\n",
              "      background-color: #E2EBFA;\n",
              "      box-shadow: 0px 1px 2px rgba(60, 64, 67, 0.3), 0px 1px 3px 1px rgba(60, 64, 67, 0.15);\n",
              "      fill: #174EA6;\n",
              "    }\n",
              "\n",
              "    [theme=dark] .colab-df-convert {\n",
              "      background-color: #3B4455;\n",
              "      fill: #D2E3FC;\n",
              "    }\n",
              "\n",
              "    [theme=dark] .colab-df-convert:hover {\n",
              "      background-color: #434B5C;\n",
              "      box-shadow: 0px 1px 3px 1px rgba(0, 0, 0, 0.15);\n",
              "      filter: drop-shadow(0px 1px 2px rgba(0, 0, 0, 0.3));\n",
              "      fill: #FFFFFF;\n",
              "    }\n",
              "  </style>\n",
              "\n",
              "      <script>\n",
              "        const buttonEl =\n",
              "          document.querySelector('#df-a8507961-c4b9-4de5-90c8-78eb771a0609 button.colab-df-convert');\n",
              "        buttonEl.style.display =\n",
              "          google.colab.kernel.accessAllowed ? 'block' : 'none';\n",
              "\n",
              "        async function convertToInteractive(key) {\n",
              "          const element = document.querySelector('#df-a8507961-c4b9-4de5-90c8-78eb771a0609');\n",
              "          const dataTable =\n",
              "            await google.colab.kernel.invokeFunction('convertToInteractive',\n",
              "                                                     [key], {});\n",
              "          if (!dataTable) return;\n",
              "\n",
              "          const docLinkHtml = 'Like what you see? Visit the ' +\n",
              "            '<a target=\"_blank\" href=https://colab.research.google.com/notebooks/data_table.ipynb>data table notebook</a>'\n",
              "            + ' to learn more about interactive tables.';\n",
              "          element.innerHTML = '';\n",
              "          dataTable['output_type'] = 'display_data';\n",
              "          await google.colab.output.renderOutput(dataTable, element);\n",
              "          const docLink = document.createElement('div');\n",
              "          docLink.innerHTML = docLinkHtml;\n",
              "          element.appendChild(docLink);\n",
              "        }\n",
              "      </script>\n",
              "    </div>\n",
              "  </div>\n",
              "  "
            ]
          },
          "metadata": {},
          "execution_count": 358
        }
      ]
    },
    {
      "cell_type": "markdown",
      "source": [
        "Saving the predictions for each image in a csv"
      ],
      "metadata": {
        "id": "51e4zVlFbK5L"
      }
    },
    {
      "cell_type": "code",
      "source": [
        "# save the dataframe as a csv file\n",
        "res_df.to_csv(\"/content/drive/MyDrive/Models/custom5-weights/saved_model.h5\", index=False)"
      ],
      "metadata": {
        "id": "7Lmyknf3IYjs"
      },
      "execution_count": 367,
      "outputs": []
    },
    {
      "cell_type": "markdown",
      "source": [
        "Testing the model on dataset2 to determine the generalisation of the model"
      ],
      "metadata": {
        "id": "CVEYFm0wbCD4"
      }
    },
    {
      "cell_type": "code",
      "source": [
        "ds_test2=tf.keras.preprocessing.image_dataset_from_directory(test2_dir,\n",
        "#label_path,\n",
        "labels='inferred', \n",
        "label_mode=\"int\", \n",
        "color_mode='grayscale',\n",
        "batch_size=batch_size,\n",
        " image_size = (img_height,img_width),\n",
        " #crop_to_aspect_ratio=True,\n",
        "  #interpolation=\"mitchellcubic\" ,\n",
        "  #seed=123,\n",
        "                                                           \n",
        ")"
      ],
      "metadata": {
        "colab": {
          "base_uri": "https://localhost:8080/"
        },
        "id": "AyuXed6JIf1L",
        "outputId": "8fb279e6-ee68-480d-f86b-46bb641a3bfa"
      },
      "execution_count": 361,
      "outputs": [
        {
          "output_type": "stream",
          "name": "stdout",
          "text": [
            "Found 224 files belonging to 2 classes.\n"
          ]
        }
      ]
    },
    {
      "cell_type": "code",
      "source": [
        "# Predictions\n",
        "preds = model.predict(ds_test2)"
      ],
      "metadata": {
        "id": "LT2TOCJLJb0S"
      },
      "execution_count": 362,
      "outputs": []
    },
    {
      "cell_type": "code",
      "source": [
        "# Get classes\n",
        "pred_classes = (preds>=0.5).astype(int)"
      ],
      "metadata": {
        "id": "0Gaf8LvBJdXZ"
      },
      "execution_count": 363,
      "outputs": []
    },
    {
      "cell_type": "code",
      "source": [
        "y_pred = []  # storing predicted labels\n",
        "y_true = []  # storing true labels\n",
        "\n",
        "for image_batch, label_batch in ds_test2:\n",
        "   # append true labels\n",
        "   y_true.append(label_batch)\n",
        "   # compute predictions\n",
        "   preds = model.predict(image_batch)\n",
        "   # append predicted labels\n",
        "   y_pred.append(np.argmax(preds, axis = - 1))\n",
        "\n",
        "# convert the true and predicted labels into tensors\n",
        "correct_labels = tf.concat([item for item in y_true], axis = 0)\n",
        "predicted_labels = tf.concat([item for item in y_pred], axis = 0)"
      ],
      "metadata": {
        "id": "MFy3pFCAJlA9"
      },
      "execution_count": 364,
      "outputs": []
    },
    {
      "cell_type": "code",
      "source": [
        "from sklearn.metrics._plot.confusion_matrix import confusion_matrix\n",
        "confusion_matrix(predicted_labels, correct_labels)"
      ],
      "metadata": {
        "colab": {
          "base_uri": "https://localhost:8080/"
        },
        "id": "Pe5jkwOjJwXF",
        "outputId": "d2df3ff5-36d8-4a2d-b300-e86d52d2ed5c"
      },
      "execution_count": 365,
      "outputs": [
        {
          "output_type": "execute_result",
          "data": {
            "text/plain": [
              "array([[64, 24],\n",
              "       [48, 88]])"
            ]
          },
          "metadata": {},
          "execution_count": 365
        }
      ]
    },
    {
      "cell_type": "code",
      "source": [
        "from sklearn.metrics import classification_report\n",
        "print(classification_report(\n",
        "  correct_labels, \n",
        "  predicted_labels, \n",
        "  \n",
        "\n",
        "))"
      ],
      "metadata": {
        "colab": {
          "base_uri": "https://localhost:8080/"
        },
        "id": "3GI_rgFSJ74l",
        "outputId": "7188a06a-98d0-42fd-c91a-0f2d987d2a49"
      },
      "execution_count": 366,
      "outputs": [
        {
          "output_type": "stream",
          "name": "stdout",
          "text": [
            "              precision    recall  f1-score   support\n",
            "\n",
            "           0       0.73      0.57      0.64       112\n",
            "           1       0.65      0.79      0.71       112\n",
            "\n",
            "    accuracy                           0.68       224\n",
            "   macro avg       0.69      0.68      0.67       224\n",
            "weighted avg       0.69      0.68      0.67       224\n",
            "\n"
          ]
        }
      ]
    }
  ]
}