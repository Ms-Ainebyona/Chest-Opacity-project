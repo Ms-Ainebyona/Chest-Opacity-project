{
  "nbformat": 4,
  "nbformat_minor": 0,
  "metadata": {
    "colab": {
      "name": "Final Copy of Chest_Opacity.ipynb",
      "provenance": [],
      "collapsed_sections": [],
      "include_colab_link": true
    },
    "kernelspec": {
      "name": "python3",
      "display_name": "Python 3"
    },
    "language_info": {
      "name": "python"
    },
    "gpuClass": "standard",
    "accelerator": "GPU"
  },
  "cells": [
    {
      "cell_type": "markdown",
      "metadata": {
        "id": "view-in-github",
        "colab_type": "text"
      },
      "source": [
        "<a href=\"https://colab.research.google.com/github/Ms-Ainebyona/Chest-Opacity-project/blob/colab-main/Final_Copy_of_Chest_Opacity.ipynb\" target=\"_parent\"><img src=\"https://colab.research.google.com/assets/colab-badge.svg\" alt=\"Open In Colab\"/></a>"
      ]
    },
    {
      "cell_type": "code",
      "source": [
        "from google.colab import drive\n",
        "drive.mount('/content/drive')"
      ],
      "metadata": {
        "colab": {
          "base_uri": "https://localhost:8080/"
        },
        "id": "4p2RUpZcy5sN",
        "outputId": "a7c4f424-6221-41cd-93aa-5987d8b71502"
      },
      "execution_count": 146,
      "outputs": [
        {
          "output_type": "stream",
          "name": "stdout",
          "text": [
            "Drive already mounted at /content/drive; to attempt to forcibly remount, call drive.mount(\"/content/drive\", force_remount=True).\n"
          ]
        }
      ]
    },
    {
      "cell_type": "markdown",
      "source": [
        "Importing libraries"
      ],
      "metadata": {
        "id": "Xr8c-_n_4kQ0"
      }
    },
    {
      "cell_type": "code",
      "execution_count": 209,
      "metadata": {
        "id": "phwSuoearn02"
      },
      "outputs": [],
      "source": [
        "import tensorflow as tf\n",
        "import numpy as np\n",
        "import matplotlib.pyplot as plt\n",
        "import keras\n",
        "import keras.utils\n",
        "from tensorflow import keras\n",
        "from tensorflow.keras import layers, optimizers\n",
        "from tensorflow.keras.models import Sequential\n",
        "import os\n",
        "import cv2\n",
        "from tensorflow.keras.preprocessing.image import ImageDataGenerator\n",
        "import os\n",
        "import PIL\n",
        "import PIL.Image\n",
        "import pathlib\n",
        "import glob\n",
        "from tensorflow.keras.preprocessing import image\n",
        "import pandas as pd\n",
        "from tensorflow.keras.preprocessing import image"
      ]
    },
    {
      "cell_type": "code",
      "source": [
        "train_dir=\"/content/drive/MyDrive/Deep learning/Known\"\n",
        "predict_dir=\"/content/drive/MyDrive/Deep learning/new\"\n",
        "test_dir=\"/content/drive/MyDrive/Deep learning/Dataset2\""
      ],
      "metadata": {
        "id": "mjQVCIwSA-IU"
      },
      "execution_count": 210,
      "outputs": []
    },
    {
      "cell_type": "markdown",
      "source": [
        "Defining model and parameters"
      ],
      "metadata": {
        "id": "EHqL4LCa326N"
      }
    },
    {
      "cell_type": "code",
      "source": [
        "import keras\n",
        "from tensorflow.keras import layers\n",
        "img_height=180\n",
        "img_width=180\n",
        "batch_size=32\n",
        "\n",
        "\n"
      ],
      "metadata": {
        "id": "-HnZrWNVr7ll"
      },
      "execution_count": 600,
      "outputs": []
    },
    {
      "cell_type": "markdown",
      "source": [
        "Loading data from directory"
      ],
      "metadata": {
        "id": "UYJyAJVH3stv"
      }
    },
    {
      "cell_type": "code",
      "source": [
        "ds_test=tf.keras.preprocessing.image_dataset_from_directory(test_dir,\n",
        "#label_path,\n",
        "labels='inferred', \n",
        "label_mode=\"int\", \n",
        "color_mode='grayscale',\n",
        "batch_size=batch_size,\n",
        " image_size = (img_height,img_width),\n",
        " #crop_to_aspect_ratio=True,\n",
        "  #interpolation=\"mitchellcubic\" ,\n",
        "  #seed=123,\n",
        "                                                           \n",
        ")"
      ],
      "metadata": {
        "colab": {
          "base_uri": "https://localhost:8080/"
        },
        "id": "On_Usw1sM32P",
        "outputId": "b585ba1d-ea08-4137-e859-104ea6d26c4e"
      },
      "execution_count": 602,
      "outputs": [
        {
          "output_type": "stream",
          "name": "stdout",
          "text": [
            "Found 224 files belonging to 2 classes.\n"
          ]
        }
      ]
    },
    {
      "cell_type": "code",
      "source": [
        "ds_train=tf.keras.preprocessing.image_dataset_from_directory(train_dir,\n",
        "labels='inferred', \n",
        "label_mode=\"int\", \n",
        "color_mode='grayscale',\n",
        "batch_size=batch_size,\n",
        " image_size = (img_height,img_width),\n",
        " shuffle=True,\n",
        " seed=123, \n",
        " validation_split=0.05,\n",
        " subset=\"training\", \n",
        "  #crop_to_aspect_ratio=True,\n",
        "  #interpolation=\"mitchellcubic\",                                                             \n",
        ")\n",
        "ds_validation=tf.keras.preprocessing.image_dataset_from_directory(train_dir, \n",
        "labels='inferred', \n",
        "label_mode=\"int\", \n",
        "color_mode='grayscale',\n",
        "batch_size=batch_size,\n",
        " image_size = (img_height,img_width),\n",
        " shuffle=True,\n",
        " seed=123,\n",
        " validation_split=0.05,\n",
        " subset=\"validation\",\n",
        "  #crop_to_aspect_ratio=True,\n",
        "  #interpolation=\"mitchellcubic\", \n",
        " )\n",
        "\n",
        "ds_predict=tf.keras.preprocessing.image_dataset_from_directory(predict_dir, \n",
        "labels='inferred', \n",
        "label_mode=\"int\", \n",
        "color_mode='grayscale',\n",
        "batch_size=batch_size,\n",
        " image_size = (img_height,img_width),\n",
        " #shuffle=True,\n",
        " #seed=123,\n",
        "#crop_to_aspect_ratio=True,\n",
        "  #interpolation=\"mitchellcubic\" \n",
        ")\n",
        "\n",
        "def augment(X,Y):\n",
        "  image=tf.image.random_brightness(X,max_delta=0.05)  \n",
        "  ds_train=ds_train.map(augment) \n",
        "  for epoch in range(100):\n",
        "   for X,Y in ds_train:\n",
        "     pass\n"
      ],
      "metadata": {
        "id": "S1PZvQ2V4DLF",
        "colab": {
          "base_uri": "https://localhost:8080/"
        },
        "outputId": "ca5533d0-1091-4900-dac7-66513e20fddf"
      },
      "execution_count": 603,
      "outputs": [
        {
          "output_type": "stream",
          "name": "stdout",
          "text": [
            "Found 715 files belonging to 2 classes.\n",
            "Using 680 files for training.\n",
            "Found 715 files belonging to 2 classes.\n",
            "Using 35 files for validation.\n",
            "Found 50 files belonging to 1 classes.\n"
          ]
        }
      ]
    },
    {
      "cell_type": "markdown",
      "source": [
        "Standardize data"
      ],
      "metadata": {
        "id": "LcQyadpliYEi"
      }
    },
    {
      "cell_type": "code",
      "source": [
        "normalization_layer = tf.keras.layers.Rescaling(1./255)\n",
        "\n",
        "normalized_ds = ds_train.map(lambda x, y: (normalization_layer(x), y))\n"
      ],
      "metadata": {
        "id": "7svG7aVEidT6"
      },
      "execution_count": 604,
      "outputs": []
    },
    {
      "cell_type": "code",
      "source": [
        "AUTOTUNE = tf.data.AUTOTUNE\n",
        "\n",
        "ds_train = ds_train.cache().prefetch(buffer_size=AUTOTUNE)\n",
        "ds_validation = ds_validation.cache().prefetch(buffer_size=AUTOTUNE)"
      ],
      "metadata": {
        "id": "OOfVjw7_i5nm"
      },
      "execution_count": 605,
      "outputs": []
    },
    {
      "cell_type": "code",
      "source": [
        "data_augmentation = keras.Sequential(\n",
        "  [\n",
        "    layers.RandomFlip(\"horizontal\",\n",
        "                      input_shape=(img_height,\n",
        "                                  img_width,\n",
        "                                  1)),\n",
        "    layers.RandomRotation(0.6),\n",
        "    layers.RandomZoom(0.6),\n",
        "  ]\n",
        ")"
      ],
      "metadata": {
        "id": "oBaUwwxsCCwi"
      },
      "execution_count": 606,
      "outputs": []
    },
    {
      "cell_type": "code",
      "source": [
        "model=keras.Sequential([\n",
        "    data_augmentation,\n",
        "    layers.Input((180,180,1)),\n",
        "    layers.Conv2D(16,3, padding='same', activation='relu'),\n",
        "    layers.MaxPooling2D(),\n",
        "    layers.Conv2D(32,3, padding='same',activation='relu'),\n",
        "    layers.MaxPooling2D(),\n",
        "    layers.Conv2D(64,3, padding='same',activation='relu'),\n",
        "    layers.MaxPooling2D(),\n",
        "    layers.Conv2D(128,3, padding='same',activation='relu'),\n",
        "    layers.MaxPooling2D(),\n",
        "    layers.Conv2D(256,3, padding='same',activation='relu'),\n",
        "    layers.MaxPooling2D(),\n",
        "    layers.Conv2D(512,3, padding='same',activation='relu'),\n",
        "    layers.MaxPooling2D(),\n",
        "    layers.Dropout(0.2),\n",
        "    layers.Flatten(),\n",
        "    layers.Dense(2),\n",
        "    layers.Dense(128, activation='relu'),\n",
        "  \n",
        "\n",
        "])"
      ],
      "metadata": {
        "id": "uQM0cJDnCIh3"
      },
      "execution_count": 607,
      "outputs": []
    },
    {
      "cell_type": "markdown",
      "source": [
        "Running the model"
      ],
      "metadata": {
        "id": "8LHwp4yT4Xzx"
      }
    },
    {
      "cell_type": "code",
      "source": [
        "model.compile(\n",
        "    optimizer='adam',\n",
        "    loss=[\n",
        "        keras.losses.SparseCategoricalCrossentropy(from_logits=True),\n",
        "    ],\n",
        "    metrics=[\"accuracy\"],\n",
        ")  \n",
        "history= model.fit(ds_train,epochs=30,batch_size=32,validation_data=ds_validation,verbose=2)   "
      ],
      "metadata": {
        "id": "O_mpwEt2hz2f",
        "colab": {
          "base_uri": "https://localhost:8080/"
        },
        "outputId": "fad46a62-bba0-49ce-b58f-e8f535a66552"
      },
      "execution_count": 608,
      "outputs": [
        {
          "output_type": "stream",
          "name": "stdout",
          "text": [
            "Epoch 1/30\n",
            "22/22 - 3s - loss: 2.4490 - accuracy: 0.2544 - val_loss: 0.8704 - val_accuracy: 0.4286 - 3s/epoch - 142ms/step\n",
            "Epoch 2/30\n",
            "22/22 - 1s - loss: 0.8102 - accuracy: 0.5353 - val_loss: 0.6735 - val_accuracy: 0.5714 - 554ms/epoch - 25ms/step\n",
            "Epoch 3/30\n",
            "22/22 - 1s - loss: 0.7103 - accuracy: 0.5779 - val_loss: 0.6369 - val_accuracy: 0.6571 - 550ms/epoch - 25ms/step\n",
            "Epoch 4/30\n",
            "22/22 - 1s - loss: 0.6843 - accuracy: 0.6029 - val_loss: 0.5133 - val_accuracy: 0.7429 - 554ms/epoch - 25ms/step\n",
            "Epoch 5/30\n",
            "22/22 - 1s - loss: 0.6679 - accuracy: 0.6176 - val_loss: 0.5430 - val_accuracy: 0.7714 - 550ms/epoch - 25ms/step\n",
            "Epoch 6/30\n",
            "22/22 - 1s - loss: 0.6618 - accuracy: 0.6368 - val_loss: 0.5070 - val_accuracy: 0.8571 - 551ms/epoch - 25ms/step\n",
            "Epoch 7/30\n",
            "22/22 - 1s - loss: 0.6470 - accuracy: 0.6324 - val_loss: 0.4443 - val_accuracy: 0.7429 - 555ms/epoch - 25ms/step\n",
            "Epoch 8/30\n",
            "22/22 - 1s - loss: 0.6015 - accuracy: 0.6529 - val_loss: 0.4818 - val_accuracy: 0.8286 - 549ms/epoch - 25ms/step\n",
            "Epoch 9/30\n",
            "22/22 - 1s - loss: 0.5800 - accuracy: 0.6926 - val_loss: 0.4091 - val_accuracy: 0.8000 - 549ms/epoch - 25ms/step\n",
            "Epoch 10/30\n",
            "22/22 - 1s - loss: 0.5563 - accuracy: 0.7059 - val_loss: 0.5535 - val_accuracy: 0.7143 - 548ms/epoch - 25ms/step\n",
            "Epoch 11/30\n",
            "22/22 - 1s - loss: 0.6062 - accuracy: 0.6456 - val_loss: 0.3949 - val_accuracy: 0.9143 - 550ms/epoch - 25ms/step\n",
            "Epoch 12/30\n",
            "22/22 - 1s - loss: 0.5655 - accuracy: 0.7074 - val_loss: 0.4121 - val_accuracy: 0.8571 - 550ms/epoch - 25ms/step\n",
            "Epoch 13/30\n",
            "22/22 - 1s - loss: 0.5649 - accuracy: 0.6824 - val_loss: 0.4555 - val_accuracy: 0.8286 - 551ms/epoch - 25ms/step\n",
            "Epoch 14/30\n",
            "22/22 - 1s - loss: 0.5580 - accuracy: 0.7162 - val_loss: 0.3645 - val_accuracy: 0.8857 - 557ms/epoch - 25ms/step\n",
            "Epoch 15/30\n",
            "22/22 - 1s - loss: 0.5446 - accuracy: 0.7147 - val_loss: 0.3959 - val_accuracy: 0.8857 - 552ms/epoch - 25ms/step\n",
            "Epoch 16/30\n",
            "22/22 - 1s - loss: 0.5609 - accuracy: 0.7132 - val_loss: 0.4028 - val_accuracy: 0.8000 - 553ms/epoch - 25ms/step\n",
            "Epoch 17/30\n",
            "22/22 - 1s - loss: 0.5439 - accuracy: 0.7265 - val_loss: 0.3772 - val_accuracy: 0.8000 - 558ms/epoch - 25ms/step\n",
            "Epoch 18/30\n",
            "22/22 - 1s - loss: 0.4794 - accuracy: 0.7500 - val_loss: 0.3777 - val_accuracy: 0.7714 - 549ms/epoch - 25ms/step\n",
            "Epoch 19/30\n",
            "22/22 - 1s - loss: 0.5024 - accuracy: 0.7618 - val_loss: 0.3352 - val_accuracy: 0.8571 - 555ms/epoch - 25ms/step\n",
            "Epoch 20/30\n",
            "22/22 - 1s - loss: 0.5267 - accuracy: 0.7309 - val_loss: 0.3556 - val_accuracy: 0.8000 - 554ms/epoch - 25ms/step\n",
            "Epoch 21/30\n",
            "22/22 - 1s - loss: 0.4727 - accuracy: 0.7515 - val_loss: 0.3479 - val_accuracy: 0.8571 - 550ms/epoch - 25ms/step\n",
            "Epoch 22/30\n",
            "22/22 - 1s - loss: 0.5553 - accuracy: 0.7338 - val_loss: 0.3292 - val_accuracy: 0.8571 - 559ms/epoch - 25ms/step\n",
            "Epoch 23/30\n",
            "22/22 - 1s - loss: 0.4456 - accuracy: 0.7956 - val_loss: 0.3344 - val_accuracy: 0.8857 - 550ms/epoch - 25ms/step\n",
            "Epoch 24/30\n",
            "22/22 - 1s - loss: 0.4396 - accuracy: 0.8044 - val_loss: 0.3431 - val_accuracy: 0.8286 - 553ms/epoch - 25ms/step\n",
            "Epoch 25/30\n",
            "22/22 - 1s - loss: 0.4771 - accuracy: 0.7662 - val_loss: 0.2932 - val_accuracy: 0.8571 - 556ms/epoch - 25ms/step\n",
            "Epoch 26/30\n",
            "22/22 - 1s - loss: 0.4174 - accuracy: 0.7971 - val_loss: 0.3335 - val_accuracy: 0.8571 - 553ms/epoch - 25ms/step\n",
            "Epoch 27/30\n",
            "22/22 - 1s - loss: 0.4445 - accuracy: 0.7809 - val_loss: 0.3339 - val_accuracy: 0.8571 - 552ms/epoch - 25ms/step\n",
            "Epoch 28/30\n",
            "22/22 - 1s - loss: 0.4492 - accuracy: 0.7824 - val_loss: 0.3379 - val_accuracy: 0.8571 - 606ms/epoch - 28ms/step\n",
            "Epoch 29/30\n",
            "22/22 - 1s - loss: 0.4044 - accuracy: 0.8162 - val_loss: 0.3497 - val_accuracy: 0.8286 - 634ms/epoch - 29ms/step\n",
            "Epoch 30/30\n",
            "22/22 - 1s - loss: 0.4084 - accuracy: 0.8176 - val_loss: 0.3679 - val_accuracy: 0.8571 - 629ms/epoch - 29ms/step\n"
          ]
        }
      ]
    },
    {
      "cell_type": "markdown",
      "source": [
        "Evaluating the model on the validation set"
      ],
      "metadata": {
        "id": "VEM4GsRD4puO"
      }
    },
    {
      "cell_type": "code",
      "source": [
        "\n",
        "model.evaluate(ds_validation, verbose=2)"
      ],
      "metadata": {
        "id": "Agy3wB6N57Nt",
        "colab": {
          "base_uri": "https://localhost:8080/"
        },
        "outputId": "ca131c40-56e9-4965-bb4c-6575027d7ee7"
      },
      "execution_count": 609,
      "outputs": [
        {
          "output_type": "stream",
          "name": "stdout",
          "text": [
            "2/2 - 0s - loss: 0.3679 - accuracy: 0.8571 - 54ms/epoch - 27ms/step\n"
          ]
        },
        {
          "output_type": "execute_result",
          "data": {
            "text/plain": [
              "[0.3679013252258301, 0.8571428656578064]"
            ]
          },
          "metadata": {},
          "execution_count": 609
        }
      ]
    },
    {
      "cell_type": "markdown",
      "source": [
        "Visualization of model performance"
      ],
      "metadata": {
        "id": "m4hBsmyR4zBL"
      }
    },
    {
      "cell_type": "code",
      "source": [
        "# Visualization of training accuracy and loss curves\n",
        "plt.plot(history.history['accuracy'], label='accuracy')\n",
        "plt.plot(history.history['val_accuracy'], label = 'val_accuracy')\n",
        "plt.xlabel('Epoch')\n",
        "plt.ylabel('Accuracy')\n",
        "plt.legend(loc='lower right')"
      ],
      "metadata": {
        "id": "UHWSJVt36JEr",
        "colab": {
          "base_uri": "https://localhost:8080/",
          "height": 296
        },
        "outputId": "5979923a-9f35-40de-9c4f-5f1fde56f3a4"
      },
      "execution_count": 610,
      "outputs": [
        {
          "output_type": "execute_result",
          "data": {
            "text/plain": [
              "<matplotlib.legend.Legend at 0x7f747c883cd0>"
            ]
          },
          "metadata": {},
          "execution_count": 610
        },
        {
          "output_type": "display_data",
          "data": {
            "text/plain": [
              "<Figure size 432x288 with 1 Axes>"
            ],
            "image/png": "[encoded data removed]"
          },
          "metadata": {
            "needs_background": "light"
          }
        }
      ]
    },
    {
      "cell_type": "code",
      "source": [
        "# Visualization of the training accuracy and loss curves\n",
        "plt.plot(history.history['loss'], label='loss')\n",
        "plt.plot(history.history['val_loss'], label = 'val_loss')\n",
        "plt.xlabel('Epoch')\n",
        "plt.ylabel('Loss')\n",
        "plt.legend(loc='upper right')"
      ],
      "metadata": {
        "id": "6sTDDMWX9Bo6",
        "colab": {
          "base_uri": "https://localhost:8080/",
          "height": 296
        },
        "outputId": "6ee2c518-5f0a-4c2d-895f-039a9ccfc756"
      },
      "execution_count": 611,
      "outputs": [
        {
          "output_type": "execute_result",
          "data": {
            "text/plain": [
              "<matplotlib.legend.Legend at 0x7f747c8bf390>"
            ]
          },
          "metadata": {},
          "execution_count": 611
        },
        {
          "output_type": "display_data",
          "data": {
            "text/plain": [
              "<Figure size 432x288 with 1 Axes>"
            ],
            "image/png": "[encoded data removed]"
          },
          "metadata": {
            "needs_background": "light"
          }
        }
      ]
    },
    {
      "cell_type": "code",
      "source": [
        "saved_model_path = \"/content/drive/MyDrive/Models/custom3-weights/saved_model.h5\""
      ],
      "metadata": {
        "id": "IdULakPfaTN_"
      },
      "execution_count": 612,
      "outputs": []
    },
    {
      "cell_type": "markdown",
      "source": [
        "Predictions on the test set (Dataset2)"
      ],
      "metadata": {
        "id": "oigKISS_463r"
      }
    },
    {
      "cell_type": "code",
      "source": [
        "# Predictions\n",
        "preds = model.predict(ds_test)"
      ],
      "metadata": {
        "id": "2_7sFeym9NvM"
      },
      "execution_count": 613,
      "outputs": []
    },
    {
      "cell_type": "code",
      "source": [
        "len(preds)"
      ],
      "metadata": {
        "id": "FOLbtZwt9cbn",
        "colab": {
          "base_uri": "https://localhost:8080/"
        },
        "outputId": "57eca238-696a-4b2b-bf41-6c7a66563689"
      },
      "execution_count": 614,
      "outputs": [
        {
          "output_type": "execute_result",
          "data": {
            "text/plain": [
              "224"
            ]
          },
          "metadata": {},
          "execution_count": 614
        }
      ]
    },
    {
      "cell_type": "code",
      "source": [
        "# Get classes\n",
        "pred_classes = (preds>=0.5).astype(int)"
      ],
      "metadata": {
        "id": "4QszQpcU9gZE"
      },
      "execution_count": 615,
      "outputs": []
    },
    {
      "cell_type": "code",
      "source": [
        "#ds_validation.class_names"
      ],
      "metadata": {
        "id": "SWPpwcl_9j_M"
      },
      "execution_count": 616,
      "outputs": []
    },
    {
      "cell_type": "code",
      "source": [
        "\n",
        "\n",
        "\n",
        "\n",
        "\n",
        "\n",
        "\n",
        "\n",
        "\n",
        "\n",
        "\n",
        "\n",
        "\n",
        "\n",
        "\n",
        "\n",
        "\n",
        "y_pred = []  # storing predicted labels\n",
        "y_true = []  # storing true labels\n",
        "\n",
        "for image_batch, label_batch in ds_test:\n",
        "   # append true labels\n",
        "   y_true.append(label_batch)\n",
        "   # compute predictions\n",
        "   preds = model.predict(image_batch)\n",
        "   # append predicted labels\n",
        "   y_pred.append(np.argmax(preds, axis = - 1))\n",
        "\n",
        "# convert the true and predicted labels into tensors\n",
        "correct_labels = tf.concat([item for item in y_true], axis = 0)\n",
        "predicted_labels = tf.concat([item for item in y_pred], axis = 0)"
      ],
      "metadata": {
        "id": "C0uTACPr3sTb"
      },
      "execution_count": 617,
      "outputs": []
    },
    {
      "cell_type": "code",
      "source": [
        "correct_labels"
      ],
      "metadata": {
        "id": "ZffsEBy04d2-",
        "colab": {
          "base_uri": "https://localhost:8080/"
        },
        "outputId": "f2a15dc8-e200-422e-c969-005c331fa66a"
      },
      "execution_count": 618,
      "outputs": [
        {
          "output_type": "execute_result",
          "data": {
            "text/plain": [
              "<tf.Tensor: shape=(224,), dtype=int32, numpy=\n",
              "array([0, 0, 1, 1, 0, 0, 1, 0, 0, 0, 1, 0, 0, 0, 0, 0, 1, 1, 1, 0, 0, 0,\n",
              "       1, 0, 1, 0, 1, 1, 1, 1, 0, 0, 1, 0, 1, 0, 0, 1, 1, 0, 0, 1, 0, 0,\n",
              "       1, 0, 1, 1, 0, 0, 0, 0, 1, 0, 1, 0, 1, 1, 1, 1, 1, 0, 1, 1, 1, 0,\n",
              "       1, 1, 0, 1, 0, 1, 1, 1, 0, 1, 1, 1, 1, 0, 0, 1, 1, 1, 0, 1, 0, 1,\n",
              "       0, 1, 1, 1, 1, 1, 0, 1, 1, 0, 0, 1, 0, 0, 1, 1, 1, 1, 1, 0, 0, 0,\n",
              "       0, 1, 1, 1, 0, 1, 0, 0, 0, 0, 0, 1, 0, 0, 0, 1, 1, 0, 1, 0, 1, 1,\n",
              "       0, 1, 0, 1, 0, 1, 0, 0, 1, 1, 0, 0, 0, 1, 1, 1, 0, 1, 1, 0, 0, 1,\n",
              "       1, 0, 0, 1, 0, 1, 0, 1, 0, 0, 0, 0, 0, 1, 1, 1, 1, 0, 1, 0, 0, 1,\n",
              "       1, 1, 1, 0, 0, 0, 1, 0, 1, 0, 1, 1, 0, 0, 0, 0, 1, 1, 1, 1, 0, 0,\n",
              "       1, 0, 0, 0, 0, 0, 1, 1, 0, 1, 1, 0, 1, 0, 1, 0, 1, 1, 0, 0, 0, 0,\n",
              "       0, 0, 1, 1], dtype=int32)>"
            ]
          },
          "metadata": {},
          "execution_count": 618
        }
      ]
    },
    {
      "cell_type": "code",
      "source": [
        "correct_labels.shape"
      ],
      "metadata": {
        "id": "uCHhEy7_4rS1",
        "colab": {
          "base_uri": "https://localhost:8080/"
        },
        "outputId": "7d377d58-bc8e-41af-83b8-370400a8cbf8"
      },
      "execution_count": 619,
      "outputs": [
        {
          "output_type": "execute_result",
          "data": {
            "text/plain": [
              "TensorShape([224])"
            ]
          },
          "metadata": {},
          "execution_count": 619
        }
      ]
    },
    {
      "cell_type": "code",
      "source": [
        "predicted_labels"
      ],
      "metadata": {
        "id": "c-qvLak44iQk",
        "colab": {
          "base_uri": "https://localhost:8080/"
        },
        "outputId": "4b03c755-d1b9-44ec-a1fb-158343a9c8fc"
      },
      "execution_count": 620,
      "outputs": [
        {
          "output_type": "execute_result",
          "data": {
            "text/plain": [
              "<tf.Tensor: shape=(224,), dtype=int64, numpy=\n",
              "array([0, 1, 1, 0, 0, 1, 0, 0, 1, 1, 0, 0, 1, 0, 0, 1, 1, 1, 1, 0, 0, 1,\n",
              "       1, 1, 1, 1, 1, 1, 1, 1, 0, 0, 1, 1, 1, 1, 0, 1, 1, 1, 0, 0, 0, 1,\n",
              "       1, 0, 0, 1, 0, 1, 1, 1, 0, 1, 1, 0, 1, 1, 1, 1, 0, 1, 0, 1, 1, 0,\n",
              "       1, 0, 0, 1, 1, 1, 1, 1, 0, 1, 1, 0, 1, 1, 1, 1, 0, 1, 0, 1, 0, 1,\n",
              "       1, 1, 0, 0, 0, 0, 1, 1, 1, 1, 1, 0, 0, 0, 0, 0, 0, 1, 0, 1, 1, 0,\n",
              "       0, 1, 1, 1, 0, 0, 0, 1, 0, 1, 0, 1, 0, 1, 1, 1, 1, 0, 0, 1, 1, 0,\n",
              "       0, 0, 1, 1, 1, 1, 1, 1, 1, 1, 0, 0, 0, 1, 0, 0, 1, 1, 0, 0, 1, 1,\n",
              "       1, 1, 1, 1, 0, 0, 1, 1, 1, 0, 1, 1, 1, 1, 0, 1, 1, 1, 0, 0, 1, 0,\n",
              "       1, 1, 1, 1, 1, 0, 1, 0, 1, 1, 0, 1, 0, 1, 1, 1, 1, 0, 1, 0, 1, 0,\n",
              "       1, 0, 0, 0, 1, 1, 0, 1, 0, 1, 1, 0, 1, 1, 1, 0, 1, 1, 0, 0, 1, 1,\n",
              "       0, 0, 1, 1])>"
            ]
          },
          "metadata": {},
          "execution_count": 620
        }
      ]
    },
    {
      "cell_type": "code",
      "source": [
        "y_pred"
      ],
      "metadata": {
        "id": "6Lwe7_ZR45ES",
        "colab": {
          "base_uri": "https://localhost:8080/"
        },
        "outputId": "777cb221-9dc8-42fe-eeb6-2bd07cc2f193"
      },
      "execution_count": 621,
      "outputs": [
        {
          "output_type": "execute_result",
          "data": {
            "text/plain": [
              "[array([0, 1, 1, 0, 0, 1, 0, 0, 1, 1, 0, 0, 1, 0, 0, 1, 1, 1, 1, 0, 0, 1,\n",
              "        1, 1, 1, 1, 1, 1, 1, 1, 0, 0]),\n",
              " array([1, 1, 1, 1, 0, 1, 1, 1, 0, 0, 0, 1, 1, 0, 0, 1, 0, 1, 1, 1, 0, 1,\n",
              "        1, 0, 1, 1, 1, 1, 0, 1, 0, 1]),\n",
              " array([1, 0, 1, 0, 0, 1, 1, 1, 1, 1, 0, 1, 1, 0, 1, 1, 1, 1, 0, 1, 0, 1,\n",
              "        0, 1, 1, 1, 0, 0, 0, 0, 1, 1]),\n",
              " array([1, 1, 1, 0, 0, 0, 0, 0, 0, 1, 0, 1, 1, 0, 0, 1, 1, 1, 0, 0, 0, 1,\n",
              "        0, 1, 0, 1, 0, 1, 1, 1, 1, 0]),\n",
              " array([0, 1, 1, 0, 0, 0, 1, 1, 1, 1, 1, 1, 1, 1, 0, 0, 0, 1, 0, 0, 1, 1,\n",
              "        0, 0, 1, 1, 1, 1, 1, 1, 0, 0]),\n",
              " array([1, 1, 1, 0, 1, 1, 1, 1, 0, 1, 1, 1, 0, 0, 1, 0, 1, 1, 1, 1, 1, 0,\n",
              "        1, 0, 1, 1, 0, 1, 0, 1, 1, 1]),\n",
              " array([1, 0, 1, 0, 1, 0, 1, 0, 0, 0, 1, 1, 0, 1, 0, 1, 1, 0, 1, 1, 1, 0,\n",
              "        1, 1, 0, 0, 1, 1, 0, 0, 1, 1])]"
            ]
          },
          "metadata": {},
          "execution_count": 621
        }
      ]
    },
    {
      "cell_type": "code",
      "source": [
        "y_true"
      ],
      "metadata": {
        "id": "JOMRjbhr47IZ",
        "colab": {
          "base_uri": "https://localhost:8080/"
        },
        "outputId": "2e6b89ea-505f-496b-ddf0-12bfdcc1e90f"
      },
      "execution_count": 622,
      "outputs": [
        {
          "output_type": "execute_result",
          "data": {
            "text/plain": [
              "[<tf.Tensor: shape=(32,), dtype=int32, numpy=\n",
              " array([0, 0, 1, 1, 0, 0, 1, 0, 0, 0, 1, 0, 0, 0, 0, 0, 1, 1, 1, 0, 0, 0,\n",
              "        1, 0, 1, 0, 1, 1, 1, 1, 0, 0], dtype=int32)>,\n",
              " <tf.Tensor: shape=(32,), dtype=int32, numpy=\n",
              " array([1, 0, 1, 0, 0, 1, 1, 0, 0, 1, 0, 0, 1, 0, 1, 1, 0, 0, 0, 0, 1, 0,\n",
              "        1, 0, 1, 1, 1, 1, 1, 0, 1, 1], dtype=int32)>,\n",
              " <tf.Tensor: shape=(32,), dtype=int32, numpy=\n",
              " array([1, 0, 1, 1, 0, 1, 0, 1, 1, 1, 0, 1, 1, 1, 1, 0, 0, 1, 1, 1, 0, 1,\n",
              "        0, 1, 0, 1, 1, 1, 1, 1, 0, 1], dtype=int32)>,\n",
              " <tf.Tensor: shape=(32,), dtype=int32, numpy=\n",
              " array([1, 0, 0, 1, 0, 0, 1, 1, 1, 1, 1, 0, 0, 0, 0, 1, 1, 1, 0, 1, 0, 0,\n",
              "        0, 0, 0, 1, 0, 0, 0, 1, 1, 0], dtype=int32)>,\n",
              " <tf.Tensor: shape=(32,), dtype=int32, numpy=\n",
              " array([1, 0, 1, 1, 0, 1, 0, 1, 0, 1, 0, 0, 1, 1, 0, 0, 0, 1, 1, 1, 0, 1,\n",
              "        1, 0, 0, 1, 1, 0, 0, 1, 0, 1], dtype=int32)>,\n",
              " <tf.Tensor: shape=(32,), dtype=int32, numpy=\n",
              " array([0, 1, 0, 0, 0, 0, 0, 1, 1, 1, 1, 0, 1, 0, 0, 1, 1, 1, 1, 0, 0, 0,\n",
              "        1, 0, 1, 0, 1, 1, 0, 0, 0, 0], dtype=int32)>,\n",
              " <tf.Tensor: shape=(32,), dtype=int32, numpy=\n",
              " array([1, 1, 1, 1, 0, 0, 1, 0, 0, 0, 0, 0, 1, 1, 0, 1, 1, 0, 1, 0, 1, 0,\n",
              "        1, 1, 0, 0, 0, 0, 0, 0, 1, 1], dtype=int32)>]"
            ]
          },
          "metadata": {},
          "execution_count": 622
        }
      ]
    },
    {
      "cell_type": "markdown",
      "source": [
        "Confusion matrix"
      ],
      "metadata": {
        "id": "4qOw3fhc5iNW"
      }
    },
    {
      "cell_type": "code",
      "source": [
        "from sklearn.metrics._plot.confusion_matrix import confusion_matrix\n",
        "confusion_matrix(predicted_labels, correct_labels)"
      ],
      "metadata": {
        "id": "ihOc1D2A5Rt-",
        "colab": {
          "base_uri": "https://localhost:8080/"
        },
        "outputId": "3f093e1d-6175-4c2d-dbe9-7fb42712fd8e"
      },
      "execution_count": 623,
      "outputs": [
        {
          "output_type": "execute_result",
          "data": {
            "text/plain": [
              "array([[53, 35],\n",
              "       [59, 77]])"
            ]
          },
          "metadata": {},
          "execution_count": 623
        }
      ]
    },
    {
      "cell_type": "markdown",
      "source": [
        "Classification report"
      ],
      "metadata": {
        "id": "0ujTpYZU5oh9"
      }
    },
    {
      "cell_type": "code",
      "source": [
        "from sklearn.metrics import classification_report\n",
        "print(classification_report(\n",
        "  correct_labels, \n",
        "  predicted_labels, \n",
        "  \n",
        "\n",
        "))"
      ],
      "metadata": {
        "id": "INfx1SQd6tI4",
        "colab": {
          "base_uri": "https://localhost:8080/"
        },
        "outputId": "777ef358-1bde-424d-f76f-8ece7270b797"
      },
      "execution_count": 624,
      "outputs": [
        {
          "output_type": "stream",
          "name": "stdout",
          "text": [
            "              precision    recall  f1-score   support\n",
            "\n",
            "           0       0.60      0.47      0.53       112\n",
            "           1       0.57      0.69      0.62       112\n",
            "\n",
            "    accuracy                           0.58       224\n",
            "   macro avg       0.58      0.58      0.58       224\n",
            "weighted avg       0.58      0.58      0.58       224\n",
            "\n"
          ]
        }
      ]
    },
    {
      "cell_type": "markdown",
      "source": [
        "Saving model weights"
      ],
      "metadata": {
        "id": "n7NhMBGu55UR"
      }
    },
    {
      "cell_type": "code",
      "source": [
        "saved_model_path = \"/content/drive/MyDrive/Models/custom2-weights/saved_model.h5\"\n",
        "model.save(saved_model_path)"
      ],
      "metadata": {
        "id": "dNU7_rV9BDyu"
      },
      "execution_count": 625,
      "outputs": []
    },
    {
      "cell_type": "markdown",
      "source": [
        "Predicting the unknown images"
      ],
      "metadata": {
        "id": "vILsq8NG5-9M"
      }
    },
    {
      "cell_type": "code",
      "source": [
        "from tensorflow.keras import layers, models, utils, losses, callbacks\n",
        "import pandas as pd\n",
        "import numpy as np"
      ],
      "metadata": {
        "id": "v-ma6swFBgyk"
      },
      "execution_count": 626,
      "outputs": []
    },
    {
      "cell_type": "code",
      "source": [
        "prediction_model_on_unknown = models.load_model(saved_model_path)\n",
        "unknown_preds  = prediction_model_on_unknown.predict(ds_predict)\n",
        "unknown_pred_classes = np.argmax(unknown_preds, axis=1)"
      ],
      "metadata": {
        "id": "Fknx0uHuA5VI"
      },
      "execution_count": 627,
      "outputs": []
    },
    {
      "cell_type": "markdown",
      "source": [
        "Converting the predictions to  a dataframe"
      ],
      "metadata": {
        "id": "_11v3B_o6NHB"
      }
    },
    {
      "cell_type": "code",
      "source": [
        "res_df = pd.DataFrame({\n",
        "    \"patient\" : ds_predict.file_paths,\n",
        "    \"diagnosis (0-Normal, 1-Sick)\": unknown_pred_classes\n",
        "    \n",
        "})\n",
        "\n",
        "res_df.head(20)"
      ],
      "metadata": {
        "id": "YVZx-LSMAg2M",
        "colab": {
          "base_uri": "https://localhost:8080/",
          "height": 676
        },
        "outputId": "08b7e9b3-19ec-440f-a05e-d9df467c2bec"
      },
      "execution_count": 628,
      "outputs": [
        {
          "output_type": "execute_result",
          "data": {
            "text/plain": [
              "                                              patient  \\\n",
              "0   /content/drive/MyDrive/Deep learning/new/unkno...   \n",
              "1   /content/drive/MyDrive/Deep learning/new/unkno...   \n",
              "2   /content/drive/MyDrive/Deep learning/new/unkno...   \n",
              "3   /content/drive/MyDrive/Deep learning/new/unkno...   \n",
              "4   /content/drive/MyDrive/Deep learning/new/unkno...   \n",
              "5   /content/drive/MyDrive/Deep learning/new/unkno...   \n",
              "6   /content/drive/MyDrive/Deep learning/new/unkno...   \n",
              "7   /content/drive/MyDrive/Deep learning/new/unkno...   \n",
              "8   /content/drive/MyDrive/Deep learning/new/unkno...   \n",
              "9   /content/drive/MyDrive/Deep learning/new/unkno...   \n",
              "10  /content/drive/MyDrive/Deep learning/new/unkno...   \n",
              "11  /content/drive/MyDrive/Deep learning/new/unkno...   \n",
              "12  /content/drive/MyDrive/Deep learning/new/unkno...   \n",
              "13  /content/drive/MyDrive/Deep learning/new/unkno...   \n",
              "14  /content/drive/MyDrive/Deep learning/new/unkno...   \n",
              "15  /content/drive/MyDrive/Deep learning/new/unkno...   \n",
              "16  /content/drive/MyDrive/Deep learning/new/unkno...   \n",
              "17  /content/drive/MyDrive/Deep learning/new/unkno...   \n",
              "18  /content/drive/MyDrive/Deep learning/new/unkno...   \n",
              "19  /content/drive/MyDrive/Deep learning/new/unkno...   \n",
              "\n",
              "    diagnosis (0-Normal, 1-Sick)  \n",
              "0                              0  \n",
              "1                              0  \n",
              "2                              1  \n",
              "3                              0  \n",
              "4                              0  \n",
              "5                              0  \n",
              "6                              1  \n",
              "7                              1  \n",
              "8                              0  \n",
              "9                              1  \n",
              "10                             0  \n",
              "11                             0  \n",
              "12                             0  \n",
              "13                             1  \n",
              "14                             1  \n",
              "15                             1  \n",
              "16                             1  \n",
              "17                             0  \n",
              "18                             0  \n",
              "19                             0  "
            ],
            "text/html": [
              "\n",
              "  <div id=\"df-3acd7056-da25-4727-b2e5-3113b2317525\">\n",
              "    <div class=\"colab-df-container\">\n",
              "      <div>\n",
              "<style scoped>\n",
              "    .dataframe tbody tr th:only-of-type {\n",
              "        vertical-align: middle;\n",
              "    }\n",
              "\n",
              "    .dataframe tbody tr th {\n",
              "        vertical-align: top;\n",
              "    }\n",
              "\n",
              "    .dataframe thead th {\n",
              "        text-align: right;\n",
              "    }\n",
              "</style>\n",
              "<table border=\"1\" class=\"dataframe\">\n",
              "  <thead>\n",
              "    <tr style=\"text-align: right;\">\n",
              "      <th></th>\n",
              "      <th>patient</th>\n",
              "      <th>diagnosis (0-Normal, 1-Sick)</th>\n",
              "    </tr>\n",
              "  </thead>\n",
              "  <tbody>\n",
              "    <tr>\n",
              "      <th>0</th>\n",
              "      <td>/content/drive/MyDrive/Deep learning/new/unkno...</td>\n",
              "      <td>0</td>\n",
              "    </tr>\n",
              "    <tr>\n",
              "      <th>1</th>\n",
              "      <td>/content/drive/MyDrive/Deep learning/new/unkno...</td>\n",
              "      <td>0</td>\n",
              "    </tr>\n",
              "    <tr>\n",
              "      <th>2</th>\n",
              "      <td>/content/drive/MyDrive/Deep learning/new/unkno...</td>\n",
              "      <td>1</td>\n",
              "    </tr>\n",
              "    <tr>\n",
              "      <th>3</th>\n",
              "      <td>/content/drive/MyDrive/Deep learning/new/unkno...</td>\n",
              "      <td>0</td>\n",
              "    </tr>\n",
              "    <tr>\n",
              "      <th>4</th>\n",
              "      <td>/content/drive/MyDrive/Deep learning/new/unkno...</td>\n",
              "      <td>0</td>\n",
              "    </tr>\n",
              "    <tr>\n",
              "      <th>5</th>\n",
              "      <td>/content/drive/MyDrive/Deep learning/new/unkno...</td>\n",
              "      <td>0</td>\n",
              "    </tr>\n",
              "    <tr>\n",
              "      <th>6</th>\n",
              "      <td>/content/drive/MyDrive/Deep learning/new/unkno...</td>\n",
              "      <td>1</td>\n",
              "    </tr>\n",
              "    <tr>\n",
              "      <th>7</th>\n",
              "      <td>/content/drive/MyDrive/Deep learning/new/unkno...</td>\n",
              "      <td>1</td>\n",
              "    </tr>\n",
              "    <tr>\n",
              "      <th>8</th>\n",
              "      <td>/content/drive/MyDrive/Deep learning/new/unkno...</td>\n",
              "      <td>0</td>\n",
              "    </tr>\n",
              "    <tr>\n",
              "      <th>9</th>\n",
              "      <td>/content/drive/MyDrive/Deep learning/new/unkno...</td>\n",
              "      <td>1</td>\n",
              "    </tr>\n",
              "    <tr>\n",
              "      <th>10</th>\n",
              "      <td>/content/drive/MyDrive/Deep learning/new/unkno...</td>\n",
              "      <td>0</td>\n",
              "    </tr>\n",
              "    <tr>\n",
              "      <th>11</th>\n",
              "      <td>/content/drive/MyDrive/Deep learning/new/unkno...</td>\n",
              "      <td>0</td>\n",
              "    </tr>\n",
              "    <tr>\n",
              "      <th>12</th>\n",
              "      <td>/content/drive/MyDrive/Deep learning/new/unkno...</td>\n",
              "      <td>0</td>\n",
              "    </tr>\n",
              "    <tr>\n",
              "      <th>13</th>\n",
              "      <td>/content/drive/MyDrive/Deep learning/new/unkno...</td>\n",
              "      <td>1</td>\n",
              "    </tr>\n",
              "    <tr>\n",
              "      <th>14</th>\n",
              "      <td>/content/drive/MyDrive/Deep learning/new/unkno...</td>\n",
              "      <td>1</td>\n",
              "    </tr>\n",
              "    <tr>\n",
              "      <th>15</th>\n",
              "      <td>/content/drive/MyDrive/Deep learning/new/unkno...</td>\n",
              "      <td>1</td>\n",
              "    </tr>\n",
              "    <tr>\n",
              "      <th>16</th>\n",
              "      <td>/content/drive/MyDrive/Deep learning/new/unkno...</td>\n",
              "      <td>1</td>\n",
              "    </tr>\n",
              "    <tr>\n",
              "      <th>17</th>\n",
              "      <td>/content/drive/MyDrive/Deep learning/new/unkno...</td>\n",
              "      <td>0</td>\n",
              "    </tr>\n",
              "    <tr>\n",
              "      <th>18</th>\n",
              "      <td>/content/drive/MyDrive/Deep learning/new/unkno...</td>\n",
              "      <td>0</td>\n",
              "    </tr>\n",
              "    <tr>\n",
              "      <th>19</th>\n",
              "      <td>/content/drive/MyDrive/Deep learning/new/unkno...</td>\n",
              "      <td>0</td>\n",
              "    </tr>\n",
              "  </tbody>\n",
              "</table>\n",
              "</div>\n",
              "      <button class=\"colab-df-convert\" onclick=\"convertToInteractive('df-3acd7056-da25-4727-b2e5-3113b2317525')\"\n",
              "              title=\"Convert this dataframe to an interactive table.\"\n",
              "              style=\"display:none;\">\n",
              "        \n",
              "  <svg xmlns=\"http://www.w3.org/2000/svg\" height=\"24px\"viewBox=\"0 0 24 24\"\n",
              "       width=\"24px\">\n",
              "    <path d=\"M0 0h24v24H0V0z\" fill=\"none\"/>\n",
              "    <path d=\"M18.56 5.44l.94 2.06.94-2.06 2.06-.94-2.06-.94-.94-2.06-.94 2.06-2.06.94zm-11 1L8.5 8.5l.94-2.06 2.06-.94-2.06-.94L8.5 2.5l-.94 2.06-2.06.94zm10 10l.94 2.06.94-2.06 2.06-.94-2.06-.94-.94-2.06-.94 2.06-2.06.94z\"/><path d=\"M17.41 7.96l-1.37-1.37c-.4-.4-.92-.59-1.43-.59-.52 0-1.04.2-1.43.59L10.3 9.45l-7.72 7.72c-.78.78-.78 2.05 0 2.83L4 21.41c.39.39.9.59 1.41.59.51 0 1.02-.2 1.41-.59l7.78-7.78 2.81-2.81c.8-.78.8-2.07 0-2.86zM5.41 20L4 18.59l7.72-7.72 1.47 1.35L5.41 20z\"/>\n",
              "  </svg>\n",
              "      </button>\n",
              "      \n",
              "  <style>\n",
              "    .colab-df-container {\n",
              "      display:flex;\n",
              "      flex-wrap:wrap;\n",
              "      gap: 12px;\n",
              "    }\n",
              "\n",
              "    .colab-df-convert {\n",
              "      background-color: #E8F0FE;\n",
              "      border: none;\n",
              "      border-radius: 50%;\n",
              "      cursor: pointer;\n",
              "      display: none;\n",
              "      fill: #1967D2;\n",
              "      height: 32px;\n",
              "      padding: 0 0 0 0;\n",
              "      width: 32px;\n",
              "    }\n",
              "\n",
              "    .colab-df-convert:hover {\n",
              "      background-color: #E2EBFA;\n",
              "      box-shadow: 0px 1px 2px rgba(60, 64, 67, 0.3), 0px 1px 3px 1px rgba(60, 64, 67, 0.15);\n",
              "      fill: #174EA6;\n",
              "    }\n",
              "\n",
              "    [theme=dark] .colab-df-convert {\n",
              "      background-color: #3B4455;\n",
              "      fill: #D2E3FC;\n",
              "    }\n",
              "\n",
              "    [theme=dark] .colab-df-convert:hover {\n",
              "      background-color: #434B5C;\n",
              "      box-shadow: 0px 1px 3px 1px rgba(0, 0, 0, 0.15);\n",
              "      filter: drop-shadow(0px 1px 2px rgba(0, 0, 0, 0.3));\n",
              "      fill: #FFFFFF;\n",
              "    }\n",
              "  </style>\n",
              "\n",
              "      <script>\n",
              "        const buttonEl =\n",
              "          document.querySelector('#df-3acd7056-da25-4727-b2e5-3113b2317525 button.colab-df-convert');\n",
              "        buttonEl.style.display =\n",
              "          google.colab.kernel.accessAllowed ? 'block' : 'none';\n",
              "\n",
              "        async function convertToInteractive(key) {\n",
              "          const element = document.querySelector('#df-3acd7056-da25-4727-b2e5-3113b2317525');\n",
              "          const dataTable =\n",
              "            await google.colab.kernel.invokeFunction('convertToInteractive',\n",
              "                                                     [key], {});\n",
              "          if (!dataTable) return;\n",
              "\n",
              "          const docLinkHtml = 'Like what you see? Visit the ' +\n",
              "            '<a target=\"_blank\" href=https://colab.research.google.com/notebooks/data_table.ipynb>data table notebook</a>'\n",
              "            + ' to learn more about interactive tables.';\n",
              "          element.innerHTML = '';\n",
              "          dataTable['output_type'] = 'display_data';\n",
              "          await google.colab.output.renderOutput(dataTable, element);\n",
              "          const docLink = document.createElement('div');\n",
              "          docLink.innerHTML = docLinkHtml;\n",
              "          element.appendChild(docLink);\n",
              "        }\n",
              "      </script>\n",
              "    </div>\n",
              "  </div>\n",
              "  "
            ]
          },
          "metadata": {},
          "execution_count": 628
        }
      ]
    },
    {
      "cell_type": "code",
      "source": [
        "# save the dataframe as a csv file\n",
        "res_df.to_csv(\"/content/drive/MyDrive/Models(1)\", index=False)"
      ],
      "metadata": {
        "id": "4wPJY8YCHhkO"
      },
      "execution_count": 634,
      "outputs": []
    },
    {
      "cell_type": "code",
      "source": [],
      "metadata": {
        "id": "d2HIMQPoN9Av"
      },
      "execution_count": 558,
      "outputs": []
    }
  ]
}